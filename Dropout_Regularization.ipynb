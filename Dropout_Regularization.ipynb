{
  "nbformat": 4,
  "nbformat_minor": 0,
  "metadata": {
    "colab": {
      "name": "Dropout Regularization.ipynb",
      "provenance": [],
      "collapsed_sections": [],
      "authorship_tag": "ABX9TyMhMJn2WKAjk64skwBSyM8M",
      "include_colab_link": true
    },
    "kernelspec": {
      "name": "python3",
      "display_name": "Python 3"
    },
    "language_info": {
      "name": "python"
    }
  },
  "cells": [
    {
      "cell_type": "markdown",
      "metadata": {
        "id": "view-in-github",
        "colab_type": "text"
      },
      "source": [
        "<a href=\"https://colab.research.google.com/github/AftabUdaipurwala/Deeplearning/blob/main/Dropout_Regularization.ipynb\" target=\"_parent\"><img src=\"https://colab.research.google.com/assets/colab-badge.svg\" alt=\"Open In Colab\"/></a>"
      ]
    },
    {
      "cell_type": "code",
      "metadata": {
        "id": "zK75YWqncRjp"
      },
      "source": [
        "import cv2\n",
        "import pandas as pd\n",
        "import numpy as np\n",
        "from sklearn import linear_model\n",
        "from google.colab import drive\n",
        "import matplotlib.pyplot as plt\n",
        "%matplotlib inline\n",
        "import matplotlib\n",
        "matplotlib.rcParams['figure.figsize']=(20,10)\n",
        "from scipy import stats\n",
        "import warnings\n",
        "warnings.filterwarnings(\"ignore\")\n",
        "import seaborn as sns\n",
        "from google.colab.patches import cv2_imshow\n",
        "import tensorflow as tf\n",
        "from tensorflow import keras"
      ],
      "execution_count": 1,
      "outputs": []
    },
    {
      "cell_type": "code",
      "metadata": {
        "colab": {
          "base_uri": "https://localhost:8080/"
        },
        "id": "HX9QRlEOcUkK",
        "outputId": "866b3218-ad28-4c83-855e-b522f0fa3497"
      },
      "source": [
        "drive.mount('/content/drive')"
      ],
      "execution_count": 2,
      "outputs": [
        {
          "output_type": "stream",
          "name": "stdout",
          "text": [
            "Mounted at /content/drive\n"
          ]
        }
      ]
    },
    {
      "cell_type": "code",
      "metadata": {
        "colab": {
          "base_uri": "https://localhost:8080/"
        },
        "id": "kocKsrp4cUr3",
        "outputId": "40663b0a-64ec-4da2-bd49-019a2d403d75"
      },
      "source": [
        "!ls '/content/drive/MyDrive/py-master/DeepLearningML/13_dropout_layer'"
      ],
      "execution_count": 21,
      "outputs": [
        {
          "output_type": "stream",
          "name": "stdout",
          "text": [
            "dropout_regularization_ann.ipynb  sonar_dataset.csv\n"
          ]
        }
      ]
    },
    {
      "cell_type": "code",
      "metadata": {
        "colab": {
          "base_uri": "https://localhost:8080/",
          "height": 222
        },
        "id": "nyRs3CfRcU0g",
        "outputId": "64c6fce0-60a3-4cac-e381-b1366f6ecc04"
      },
      "source": [
        "df = pd.read_csv('/content/drive/MyDrive/py-master/DeepLearningML/13_dropout_layer/sonar_dataset.csv', header =None)\n",
        "df.head()"
      ],
      "execution_count": 31,
      "outputs": [
        {
          "output_type": "execute_result",
          "data": {
            "text/html": [
              "<div>\n",
              "<style scoped>\n",
              "    .dataframe tbody tr th:only-of-type {\n",
              "        vertical-align: middle;\n",
              "    }\n",
              "\n",
              "    .dataframe tbody tr th {\n",
              "        vertical-align: top;\n",
              "    }\n",
              "\n",
              "    .dataframe thead th {\n",
              "        text-align: right;\n",
              "    }\n",
              "</style>\n",
              "<table border=\"1\" class=\"dataframe\">\n",
              "  <thead>\n",
              "    <tr style=\"text-align: right;\">\n",
              "      <th></th>\n",
              "      <th>0</th>\n",
              "      <th>1</th>\n",
              "      <th>2</th>\n",
              "      <th>3</th>\n",
              "      <th>4</th>\n",
              "      <th>5</th>\n",
              "      <th>6</th>\n",
              "      <th>7</th>\n",
              "      <th>8</th>\n",
              "      <th>9</th>\n",
              "      <th>10</th>\n",
              "      <th>11</th>\n",
              "      <th>12</th>\n",
              "      <th>13</th>\n",
              "      <th>14</th>\n",
              "      <th>15</th>\n",
              "      <th>16</th>\n",
              "      <th>17</th>\n",
              "      <th>18</th>\n",
              "      <th>19</th>\n",
              "      <th>20</th>\n",
              "      <th>21</th>\n",
              "      <th>22</th>\n",
              "      <th>23</th>\n",
              "      <th>24</th>\n",
              "      <th>25</th>\n",
              "      <th>26</th>\n",
              "      <th>27</th>\n",
              "      <th>28</th>\n",
              "      <th>29</th>\n",
              "      <th>30</th>\n",
              "      <th>31</th>\n",
              "      <th>32</th>\n",
              "      <th>33</th>\n",
              "      <th>34</th>\n",
              "      <th>35</th>\n",
              "      <th>36</th>\n",
              "      <th>37</th>\n",
              "      <th>38</th>\n",
              "      <th>39</th>\n",
              "      <th>40</th>\n",
              "      <th>41</th>\n",
              "      <th>42</th>\n",
              "      <th>43</th>\n",
              "      <th>44</th>\n",
              "      <th>45</th>\n",
              "      <th>46</th>\n",
              "      <th>47</th>\n",
              "      <th>48</th>\n",
              "      <th>49</th>\n",
              "      <th>50</th>\n",
              "      <th>51</th>\n",
              "      <th>52</th>\n",
              "      <th>53</th>\n",
              "      <th>54</th>\n",
              "      <th>55</th>\n",
              "      <th>56</th>\n",
              "      <th>57</th>\n",
              "      <th>58</th>\n",
              "      <th>59</th>\n",
              "      <th>60</th>\n",
              "    </tr>\n",
              "  </thead>\n",
              "  <tbody>\n",
              "    <tr>\n",
              "      <th>0</th>\n",
              "      <td>0.0200</td>\n",
              "      <td>0.0371</td>\n",
              "      <td>0.0428</td>\n",
              "      <td>0.0207</td>\n",
              "      <td>0.0954</td>\n",
              "      <td>0.0986</td>\n",
              "      <td>0.1539</td>\n",
              "      <td>0.1601</td>\n",
              "      <td>0.3109</td>\n",
              "      <td>0.2111</td>\n",
              "      <td>0.1609</td>\n",
              "      <td>0.1582</td>\n",
              "      <td>0.2238</td>\n",
              "      <td>0.0645</td>\n",
              "      <td>0.0660</td>\n",
              "      <td>0.2273</td>\n",
              "      <td>0.3100</td>\n",
              "      <td>0.2999</td>\n",
              "      <td>0.5078</td>\n",
              "      <td>0.4797</td>\n",
              "      <td>0.5783</td>\n",
              "      <td>0.5071</td>\n",
              "      <td>0.4328</td>\n",
              "      <td>0.5550</td>\n",
              "      <td>0.6711</td>\n",
              "      <td>0.6415</td>\n",
              "      <td>0.7104</td>\n",
              "      <td>0.8080</td>\n",
              "      <td>0.6791</td>\n",
              "      <td>0.3857</td>\n",
              "      <td>0.1307</td>\n",
              "      <td>0.2604</td>\n",
              "      <td>0.5121</td>\n",
              "      <td>0.7547</td>\n",
              "      <td>0.8537</td>\n",
              "      <td>0.8507</td>\n",
              "      <td>0.6692</td>\n",
              "      <td>0.6097</td>\n",
              "      <td>0.4943</td>\n",
              "      <td>0.2744</td>\n",
              "      <td>0.0510</td>\n",
              "      <td>0.2834</td>\n",
              "      <td>0.2825</td>\n",
              "      <td>0.4256</td>\n",
              "      <td>0.2641</td>\n",
              "      <td>0.1386</td>\n",
              "      <td>0.1051</td>\n",
              "      <td>0.1343</td>\n",
              "      <td>0.0383</td>\n",
              "      <td>0.0324</td>\n",
              "      <td>0.0232</td>\n",
              "      <td>0.0027</td>\n",
              "      <td>0.0065</td>\n",
              "      <td>0.0159</td>\n",
              "      <td>0.0072</td>\n",
              "      <td>0.0167</td>\n",
              "      <td>0.0180</td>\n",
              "      <td>0.0084</td>\n",
              "      <td>0.0090</td>\n",
              "      <td>0.0032</td>\n",
              "      <td>R</td>\n",
              "    </tr>\n",
              "    <tr>\n",
              "      <th>1</th>\n",
              "      <td>0.0453</td>\n",
              "      <td>0.0523</td>\n",
              "      <td>0.0843</td>\n",
              "      <td>0.0689</td>\n",
              "      <td>0.1183</td>\n",
              "      <td>0.2583</td>\n",
              "      <td>0.2156</td>\n",
              "      <td>0.3481</td>\n",
              "      <td>0.3337</td>\n",
              "      <td>0.2872</td>\n",
              "      <td>0.4918</td>\n",
              "      <td>0.6552</td>\n",
              "      <td>0.6919</td>\n",
              "      <td>0.7797</td>\n",
              "      <td>0.7464</td>\n",
              "      <td>0.9444</td>\n",
              "      <td>1.0000</td>\n",
              "      <td>0.8874</td>\n",
              "      <td>0.8024</td>\n",
              "      <td>0.7818</td>\n",
              "      <td>0.5212</td>\n",
              "      <td>0.4052</td>\n",
              "      <td>0.3957</td>\n",
              "      <td>0.3914</td>\n",
              "      <td>0.3250</td>\n",
              "      <td>0.3200</td>\n",
              "      <td>0.3271</td>\n",
              "      <td>0.2767</td>\n",
              "      <td>0.4423</td>\n",
              "      <td>0.2028</td>\n",
              "      <td>0.3788</td>\n",
              "      <td>0.2947</td>\n",
              "      <td>0.1984</td>\n",
              "      <td>0.2341</td>\n",
              "      <td>0.1306</td>\n",
              "      <td>0.4182</td>\n",
              "      <td>0.3835</td>\n",
              "      <td>0.1057</td>\n",
              "      <td>0.1840</td>\n",
              "      <td>0.1970</td>\n",
              "      <td>0.1674</td>\n",
              "      <td>0.0583</td>\n",
              "      <td>0.1401</td>\n",
              "      <td>0.1628</td>\n",
              "      <td>0.0621</td>\n",
              "      <td>0.0203</td>\n",
              "      <td>0.0530</td>\n",
              "      <td>0.0742</td>\n",
              "      <td>0.0409</td>\n",
              "      <td>0.0061</td>\n",
              "      <td>0.0125</td>\n",
              "      <td>0.0084</td>\n",
              "      <td>0.0089</td>\n",
              "      <td>0.0048</td>\n",
              "      <td>0.0094</td>\n",
              "      <td>0.0191</td>\n",
              "      <td>0.0140</td>\n",
              "      <td>0.0049</td>\n",
              "      <td>0.0052</td>\n",
              "      <td>0.0044</td>\n",
              "      <td>R</td>\n",
              "    </tr>\n",
              "    <tr>\n",
              "      <th>2</th>\n",
              "      <td>0.0262</td>\n",
              "      <td>0.0582</td>\n",
              "      <td>0.1099</td>\n",
              "      <td>0.1083</td>\n",
              "      <td>0.0974</td>\n",
              "      <td>0.2280</td>\n",
              "      <td>0.2431</td>\n",
              "      <td>0.3771</td>\n",
              "      <td>0.5598</td>\n",
              "      <td>0.6194</td>\n",
              "      <td>0.6333</td>\n",
              "      <td>0.7060</td>\n",
              "      <td>0.5544</td>\n",
              "      <td>0.5320</td>\n",
              "      <td>0.6479</td>\n",
              "      <td>0.6931</td>\n",
              "      <td>0.6759</td>\n",
              "      <td>0.7551</td>\n",
              "      <td>0.8929</td>\n",
              "      <td>0.8619</td>\n",
              "      <td>0.7974</td>\n",
              "      <td>0.6737</td>\n",
              "      <td>0.4293</td>\n",
              "      <td>0.3648</td>\n",
              "      <td>0.5331</td>\n",
              "      <td>0.2413</td>\n",
              "      <td>0.5070</td>\n",
              "      <td>0.8533</td>\n",
              "      <td>0.6036</td>\n",
              "      <td>0.8514</td>\n",
              "      <td>0.8512</td>\n",
              "      <td>0.5045</td>\n",
              "      <td>0.1862</td>\n",
              "      <td>0.2709</td>\n",
              "      <td>0.4232</td>\n",
              "      <td>0.3043</td>\n",
              "      <td>0.6116</td>\n",
              "      <td>0.6756</td>\n",
              "      <td>0.5375</td>\n",
              "      <td>0.4719</td>\n",
              "      <td>0.4647</td>\n",
              "      <td>0.2587</td>\n",
              "      <td>0.2129</td>\n",
              "      <td>0.2222</td>\n",
              "      <td>0.2111</td>\n",
              "      <td>0.0176</td>\n",
              "      <td>0.1348</td>\n",
              "      <td>0.0744</td>\n",
              "      <td>0.0130</td>\n",
              "      <td>0.0106</td>\n",
              "      <td>0.0033</td>\n",
              "      <td>0.0232</td>\n",
              "      <td>0.0166</td>\n",
              "      <td>0.0095</td>\n",
              "      <td>0.0180</td>\n",
              "      <td>0.0244</td>\n",
              "      <td>0.0316</td>\n",
              "      <td>0.0164</td>\n",
              "      <td>0.0095</td>\n",
              "      <td>0.0078</td>\n",
              "      <td>R</td>\n",
              "    </tr>\n",
              "    <tr>\n",
              "      <th>3</th>\n",
              "      <td>0.0100</td>\n",
              "      <td>0.0171</td>\n",
              "      <td>0.0623</td>\n",
              "      <td>0.0205</td>\n",
              "      <td>0.0205</td>\n",
              "      <td>0.0368</td>\n",
              "      <td>0.1098</td>\n",
              "      <td>0.1276</td>\n",
              "      <td>0.0598</td>\n",
              "      <td>0.1264</td>\n",
              "      <td>0.0881</td>\n",
              "      <td>0.1992</td>\n",
              "      <td>0.0184</td>\n",
              "      <td>0.2261</td>\n",
              "      <td>0.1729</td>\n",
              "      <td>0.2131</td>\n",
              "      <td>0.0693</td>\n",
              "      <td>0.2281</td>\n",
              "      <td>0.4060</td>\n",
              "      <td>0.3973</td>\n",
              "      <td>0.2741</td>\n",
              "      <td>0.3690</td>\n",
              "      <td>0.5556</td>\n",
              "      <td>0.4846</td>\n",
              "      <td>0.3140</td>\n",
              "      <td>0.5334</td>\n",
              "      <td>0.5256</td>\n",
              "      <td>0.2520</td>\n",
              "      <td>0.2090</td>\n",
              "      <td>0.3559</td>\n",
              "      <td>0.6260</td>\n",
              "      <td>0.7340</td>\n",
              "      <td>0.6120</td>\n",
              "      <td>0.3497</td>\n",
              "      <td>0.3953</td>\n",
              "      <td>0.3012</td>\n",
              "      <td>0.5408</td>\n",
              "      <td>0.8814</td>\n",
              "      <td>0.9857</td>\n",
              "      <td>0.9167</td>\n",
              "      <td>0.6121</td>\n",
              "      <td>0.5006</td>\n",
              "      <td>0.3210</td>\n",
              "      <td>0.3202</td>\n",
              "      <td>0.4295</td>\n",
              "      <td>0.3654</td>\n",
              "      <td>0.2655</td>\n",
              "      <td>0.1576</td>\n",
              "      <td>0.0681</td>\n",
              "      <td>0.0294</td>\n",
              "      <td>0.0241</td>\n",
              "      <td>0.0121</td>\n",
              "      <td>0.0036</td>\n",
              "      <td>0.0150</td>\n",
              "      <td>0.0085</td>\n",
              "      <td>0.0073</td>\n",
              "      <td>0.0050</td>\n",
              "      <td>0.0044</td>\n",
              "      <td>0.0040</td>\n",
              "      <td>0.0117</td>\n",
              "      <td>R</td>\n",
              "    </tr>\n",
              "    <tr>\n",
              "      <th>4</th>\n",
              "      <td>0.0762</td>\n",
              "      <td>0.0666</td>\n",
              "      <td>0.0481</td>\n",
              "      <td>0.0394</td>\n",
              "      <td>0.0590</td>\n",
              "      <td>0.0649</td>\n",
              "      <td>0.1209</td>\n",
              "      <td>0.2467</td>\n",
              "      <td>0.3564</td>\n",
              "      <td>0.4459</td>\n",
              "      <td>0.4152</td>\n",
              "      <td>0.3952</td>\n",
              "      <td>0.4256</td>\n",
              "      <td>0.4135</td>\n",
              "      <td>0.4528</td>\n",
              "      <td>0.5326</td>\n",
              "      <td>0.7306</td>\n",
              "      <td>0.6193</td>\n",
              "      <td>0.2032</td>\n",
              "      <td>0.4636</td>\n",
              "      <td>0.4148</td>\n",
              "      <td>0.4292</td>\n",
              "      <td>0.5730</td>\n",
              "      <td>0.5399</td>\n",
              "      <td>0.3161</td>\n",
              "      <td>0.2285</td>\n",
              "      <td>0.6995</td>\n",
              "      <td>1.0000</td>\n",
              "      <td>0.7262</td>\n",
              "      <td>0.4724</td>\n",
              "      <td>0.5103</td>\n",
              "      <td>0.5459</td>\n",
              "      <td>0.2881</td>\n",
              "      <td>0.0981</td>\n",
              "      <td>0.1951</td>\n",
              "      <td>0.4181</td>\n",
              "      <td>0.4604</td>\n",
              "      <td>0.3217</td>\n",
              "      <td>0.2828</td>\n",
              "      <td>0.2430</td>\n",
              "      <td>0.1979</td>\n",
              "      <td>0.2444</td>\n",
              "      <td>0.1847</td>\n",
              "      <td>0.0841</td>\n",
              "      <td>0.0692</td>\n",
              "      <td>0.0528</td>\n",
              "      <td>0.0357</td>\n",
              "      <td>0.0085</td>\n",
              "      <td>0.0230</td>\n",
              "      <td>0.0046</td>\n",
              "      <td>0.0156</td>\n",
              "      <td>0.0031</td>\n",
              "      <td>0.0054</td>\n",
              "      <td>0.0105</td>\n",
              "      <td>0.0110</td>\n",
              "      <td>0.0015</td>\n",
              "      <td>0.0072</td>\n",
              "      <td>0.0048</td>\n",
              "      <td>0.0107</td>\n",
              "      <td>0.0094</td>\n",
              "      <td>R</td>\n",
              "    </tr>\n",
              "  </tbody>\n",
              "</table>\n",
              "</div>"
            ],
            "text/plain": [
              "       0       1       2       3       4   ...      56      57      58      59  60\n",
              "0  0.0200  0.0371  0.0428  0.0207  0.0954  ...  0.0180  0.0084  0.0090  0.0032   R\n",
              "1  0.0453  0.0523  0.0843  0.0689  0.1183  ...  0.0140  0.0049  0.0052  0.0044   R\n",
              "2  0.0262  0.0582  0.1099  0.1083  0.0974  ...  0.0316  0.0164  0.0095  0.0078   R\n",
              "3  0.0100  0.0171  0.0623  0.0205  0.0205  ...  0.0050  0.0044  0.0040  0.0117   R\n",
              "4  0.0762  0.0666  0.0481  0.0394  0.0590  ...  0.0072  0.0048  0.0107  0.0094   R\n",
              "\n",
              "[5 rows x 61 columns]"
            ]
          },
          "metadata": {},
          "execution_count": 31
        }
      ]
    },
    {
      "cell_type": "markdown",
      "metadata": {
        "id": "AROP0dzqeLWQ"
      },
      "source": [
        "![image.png](data:image/png;base64,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)"
      ]
    },
    {
      "cell_type": "code",
      "metadata": {
        "colab": {
          "base_uri": "https://localhost:8080/"
        },
        "id": "Emhl30-6c72U",
        "outputId": "bd00c987-9f14-4e5c-9d1f-8d09b6e036e5"
      },
      "source": [
        "df.shape"
      ],
      "execution_count": 35,
      "outputs": [
        {
          "output_type": "execute_result",
          "data": {
            "text/plain": [
              "(208, 61)"
            ]
          },
          "metadata": {},
          "execution_count": 35
        }
      ]
    },
    {
      "cell_type": "code",
      "metadata": {
        "id": "kl4AK1Vfer1K"
      },
      "source": [
        "df.columns = np.arange(1,62)\n",
        "arr =  np.arange(1,62)\n",
        "for i in arr:\n",
        "  df.rename(columns={i: str(i)}, inplace=True)\n",
        "  \n",
        "df.rename(columns={'61':'Class'}, inplace=True)\n"
      ],
      "execution_count": 32,
      "outputs": []
    },
    {
      "cell_type": "code",
      "metadata": {
        "colab": {
          "base_uri": "https://localhost:8080/",
          "height": 130
        },
        "id": "UFGYIdule0mm",
        "outputId": "f3b3fc7a-5706-434a-8dde-e3703d82731e"
      },
      "source": [
        "df.head(2)"
      ],
      "execution_count": 33,
      "outputs": [
        {
          "output_type": "execute_result",
          "data": {
            "text/html": [
              "<div>\n",
              "<style scoped>\n",
              "    .dataframe tbody tr th:only-of-type {\n",
              "        vertical-align: middle;\n",
              "    }\n",
              "\n",
              "    .dataframe tbody tr th {\n",
              "        vertical-align: top;\n",
              "    }\n",
              "\n",
              "    .dataframe thead th {\n",
              "        text-align: right;\n",
              "    }\n",
              "</style>\n",
              "<table border=\"1\" class=\"dataframe\">\n",
              "  <thead>\n",
              "    <tr style=\"text-align: right;\">\n",
              "      <th></th>\n",
              "      <th>1</th>\n",
              "      <th>2</th>\n",
              "      <th>3</th>\n",
              "      <th>4</th>\n",
              "      <th>5</th>\n",
              "      <th>6</th>\n",
              "      <th>7</th>\n",
              "      <th>8</th>\n",
              "      <th>9</th>\n",
              "      <th>10</th>\n",
              "      <th>11</th>\n",
              "      <th>12</th>\n",
              "      <th>13</th>\n",
              "      <th>14</th>\n",
              "      <th>15</th>\n",
              "      <th>16</th>\n",
              "      <th>17</th>\n",
              "      <th>18</th>\n",
              "      <th>19</th>\n",
              "      <th>20</th>\n",
              "      <th>21</th>\n",
              "      <th>22</th>\n",
              "      <th>23</th>\n",
              "      <th>24</th>\n",
              "      <th>25</th>\n",
              "      <th>26</th>\n",
              "      <th>27</th>\n",
              "      <th>28</th>\n",
              "      <th>29</th>\n",
              "      <th>30</th>\n",
              "      <th>31</th>\n",
              "      <th>32</th>\n",
              "      <th>33</th>\n",
              "      <th>34</th>\n",
              "      <th>35</th>\n",
              "      <th>36</th>\n",
              "      <th>37</th>\n",
              "      <th>38</th>\n",
              "      <th>39</th>\n",
              "      <th>40</th>\n",
              "      <th>41</th>\n",
              "      <th>42</th>\n",
              "      <th>43</th>\n",
              "      <th>44</th>\n",
              "      <th>45</th>\n",
              "      <th>46</th>\n",
              "      <th>47</th>\n",
              "      <th>48</th>\n",
              "      <th>49</th>\n",
              "      <th>50</th>\n",
              "      <th>51</th>\n",
              "      <th>52</th>\n",
              "      <th>53</th>\n",
              "      <th>54</th>\n",
              "      <th>55</th>\n",
              "      <th>56</th>\n",
              "      <th>57</th>\n",
              "      <th>58</th>\n",
              "      <th>59</th>\n",
              "      <th>60</th>\n",
              "      <th>Class</th>\n",
              "    </tr>\n",
              "  </thead>\n",
              "  <tbody>\n",
              "    <tr>\n",
              "      <th>0</th>\n",
              "      <td>0.0200</td>\n",
              "      <td>0.0371</td>\n",
              "      <td>0.0428</td>\n",
              "      <td>0.0207</td>\n",
              "      <td>0.0954</td>\n",
              "      <td>0.0986</td>\n",
              "      <td>0.1539</td>\n",
              "      <td>0.1601</td>\n",
              "      <td>0.3109</td>\n",
              "      <td>0.2111</td>\n",
              "      <td>0.1609</td>\n",
              "      <td>0.1582</td>\n",
              "      <td>0.2238</td>\n",
              "      <td>0.0645</td>\n",
              "      <td>0.0660</td>\n",
              "      <td>0.2273</td>\n",
              "      <td>0.31</td>\n",
              "      <td>0.2999</td>\n",
              "      <td>0.5078</td>\n",
              "      <td>0.4797</td>\n",
              "      <td>0.5783</td>\n",
              "      <td>0.5071</td>\n",
              "      <td>0.4328</td>\n",
              "      <td>0.5550</td>\n",
              "      <td>0.6711</td>\n",
              "      <td>0.6415</td>\n",
              "      <td>0.7104</td>\n",
              "      <td>0.8080</td>\n",
              "      <td>0.6791</td>\n",
              "      <td>0.3857</td>\n",
              "      <td>0.1307</td>\n",
              "      <td>0.2604</td>\n",
              "      <td>0.5121</td>\n",
              "      <td>0.7547</td>\n",
              "      <td>0.8537</td>\n",
              "      <td>0.8507</td>\n",
              "      <td>0.6692</td>\n",
              "      <td>0.6097</td>\n",
              "      <td>0.4943</td>\n",
              "      <td>0.2744</td>\n",
              "      <td>0.0510</td>\n",
              "      <td>0.2834</td>\n",
              "      <td>0.2825</td>\n",
              "      <td>0.4256</td>\n",
              "      <td>0.2641</td>\n",
              "      <td>0.1386</td>\n",
              "      <td>0.1051</td>\n",
              "      <td>0.1343</td>\n",
              "      <td>0.0383</td>\n",
              "      <td>0.0324</td>\n",
              "      <td>0.0232</td>\n",
              "      <td>0.0027</td>\n",
              "      <td>0.0065</td>\n",
              "      <td>0.0159</td>\n",
              "      <td>0.0072</td>\n",
              "      <td>0.0167</td>\n",
              "      <td>0.018</td>\n",
              "      <td>0.0084</td>\n",
              "      <td>0.0090</td>\n",
              "      <td>0.0032</td>\n",
              "      <td>R</td>\n",
              "    </tr>\n",
              "    <tr>\n",
              "      <th>1</th>\n",
              "      <td>0.0453</td>\n",
              "      <td>0.0523</td>\n",
              "      <td>0.0843</td>\n",
              "      <td>0.0689</td>\n",
              "      <td>0.1183</td>\n",
              "      <td>0.2583</td>\n",
              "      <td>0.2156</td>\n",
              "      <td>0.3481</td>\n",
              "      <td>0.3337</td>\n",
              "      <td>0.2872</td>\n",
              "      <td>0.4918</td>\n",
              "      <td>0.6552</td>\n",
              "      <td>0.6919</td>\n",
              "      <td>0.7797</td>\n",
              "      <td>0.7464</td>\n",
              "      <td>0.9444</td>\n",
              "      <td>1.00</td>\n",
              "      <td>0.8874</td>\n",
              "      <td>0.8024</td>\n",
              "      <td>0.7818</td>\n",
              "      <td>0.5212</td>\n",
              "      <td>0.4052</td>\n",
              "      <td>0.3957</td>\n",
              "      <td>0.3914</td>\n",
              "      <td>0.3250</td>\n",
              "      <td>0.3200</td>\n",
              "      <td>0.3271</td>\n",
              "      <td>0.2767</td>\n",
              "      <td>0.4423</td>\n",
              "      <td>0.2028</td>\n",
              "      <td>0.3788</td>\n",
              "      <td>0.2947</td>\n",
              "      <td>0.1984</td>\n",
              "      <td>0.2341</td>\n",
              "      <td>0.1306</td>\n",
              "      <td>0.4182</td>\n",
              "      <td>0.3835</td>\n",
              "      <td>0.1057</td>\n",
              "      <td>0.1840</td>\n",
              "      <td>0.1970</td>\n",
              "      <td>0.1674</td>\n",
              "      <td>0.0583</td>\n",
              "      <td>0.1401</td>\n",
              "      <td>0.1628</td>\n",
              "      <td>0.0621</td>\n",
              "      <td>0.0203</td>\n",
              "      <td>0.0530</td>\n",
              "      <td>0.0742</td>\n",
              "      <td>0.0409</td>\n",
              "      <td>0.0061</td>\n",
              "      <td>0.0125</td>\n",
              "      <td>0.0084</td>\n",
              "      <td>0.0089</td>\n",
              "      <td>0.0048</td>\n",
              "      <td>0.0094</td>\n",
              "      <td>0.0191</td>\n",
              "      <td>0.014</td>\n",
              "      <td>0.0049</td>\n",
              "      <td>0.0052</td>\n",
              "      <td>0.0044</td>\n",
              "      <td>R</td>\n",
              "    </tr>\n",
              "  </tbody>\n",
              "</table>\n",
              "</div>"
            ],
            "text/plain": [
              "        1       2       3       4       5  ...     57      58      59      60  Class\n",
              "0  0.0200  0.0371  0.0428  0.0207  0.0954  ...  0.018  0.0084  0.0090  0.0032      R\n",
              "1  0.0453  0.0523  0.0843  0.0689  0.1183  ...  0.014  0.0049  0.0052  0.0044      R\n",
              "\n",
              "[2 rows x 61 columns]"
            ]
          },
          "metadata": {},
          "execution_count": 33
        }
      ]
    },
    {
      "cell_type": "code",
      "metadata": {
        "colab": {
          "base_uri": "https://localhost:8080/"
        },
        "id": "YmbqLhgEgjdM",
        "outputId": "1c0aa697-0a78-402f-b4a6-22fc76fbddda"
      },
      "source": [
        "df.isna().sum()"
      ],
      "execution_count": 34,
      "outputs": [
        {
          "output_type": "execute_result",
          "data": {
            "text/plain": [
              "1        0\n",
              "2        0\n",
              "3        0\n",
              "4        0\n",
              "5        0\n",
              "        ..\n",
              "57       0\n",
              "58       0\n",
              "59       0\n",
              "60       0\n",
              "Class    0\n",
              "Length: 61, dtype: int64"
            ]
          },
          "metadata": {},
          "execution_count": 34
        }
      ]
    },
    {
      "cell_type": "code",
      "metadata": {
        "colab": {
          "base_uri": "https://localhost:8080/"
        },
        "id": "M7voCXcAi0Uc",
        "outputId": "2c5a28e5-8fe1-4cf9-87bb-5ae949ee6d8b"
      },
      "source": [
        "df.columns"
      ],
      "execution_count": 36,
      "outputs": [
        {
          "output_type": "execute_result",
          "data": {
            "text/plain": [
              "Index(['1', '2', '3', '4', '5', '6', '7', '8', '9', '10', '11', '12', '13',\n",
              "       '14', '15', '16', '17', '18', '19', '20', '21', '22', '23', '24', '25',\n",
              "       '26', '27', '28', '29', '30', '31', '32', '33', '34', '35', '36', '37',\n",
              "       '38', '39', '40', '41', '42', '43', '44', '45', '46', '47', '48', '49',\n",
              "       '50', '51', '52', '53', '54', '55', '56', '57', '58', '59', '60',\n",
              "       'Class'],\n",
              "      dtype='object')"
            ]
          },
          "metadata": {},
          "execution_count": 36
        }
      ]
    },
    {
      "cell_type": "code",
      "metadata": {
        "colab": {
          "base_uri": "https://localhost:8080/"
        },
        "id": "nqSnzJRWjANb",
        "outputId": "1c38bfec-1f0e-4498-c7b5-7f0a6b56d2dc"
      },
      "source": [
        "df['Class'].value_counts()"
      ],
      "execution_count": 37,
      "outputs": [
        {
          "output_type": "execute_result",
          "data": {
            "text/plain": [
              "M    111\n",
              "R     97\n",
              "Name: Class, dtype: int64"
            ]
          },
          "metadata": {},
          "execution_count": 37
        }
      ]
    },
    {
      "cell_type": "code",
      "metadata": {
        "colab": {
          "base_uri": "https://localhost:8080/",
          "height": 202
        },
        "id": "iSm6ZPyJjE11",
        "outputId": "33e3f4f0-9b8b-4bc6-f20d-445f51697181"
      },
      "source": [
        "x = df.drop('Class', axis=1)\n",
        "y = df.Class\n",
        "y = pd.get_dummies(y, drop_first=True)\n",
        "y.head(5)"
      ],
      "execution_count": 40,
      "outputs": [
        {
          "output_type": "execute_result",
          "data": {
            "text/html": [
              "<div>\n",
              "<style scoped>\n",
              "    .dataframe tbody tr th:only-of-type {\n",
              "        vertical-align: middle;\n",
              "    }\n",
              "\n",
              "    .dataframe tbody tr th {\n",
              "        vertical-align: top;\n",
              "    }\n",
              "\n",
              "    .dataframe thead th {\n",
              "        text-align: right;\n",
              "    }\n",
              "</style>\n",
              "<table border=\"1\" class=\"dataframe\">\n",
              "  <thead>\n",
              "    <tr style=\"text-align: right;\">\n",
              "      <th></th>\n",
              "      <th>R</th>\n",
              "    </tr>\n",
              "  </thead>\n",
              "  <tbody>\n",
              "    <tr>\n",
              "      <th>0</th>\n",
              "      <td>1</td>\n",
              "    </tr>\n",
              "    <tr>\n",
              "      <th>1</th>\n",
              "      <td>1</td>\n",
              "    </tr>\n",
              "    <tr>\n",
              "      <th>2</th>\n",
              "      <td>1</td>\n",
              "    </tr>\n",
              "    <tr>\n",
              "      <th>3</th>\n",
              "      <td>1</td>\n",
              "    </tr>\n",
              "    <tr>\n",
              "      <th>4</th>\n",
              "      <td>1</td>\n",
              "    </tr>\n",
              "  </tbody>\n",
              "</table>\n",
              "</div>"
            ],
            "text/plain": [
              "   R\n",
              "0  1\n",
              "1  1\n",
              "2  1\n",
              "3  1\n",
              "4  1"
            ]
          },
          "metadata": {},
          "execution_count": 40
        }
      ]
    },
    {
      "cell_type": "code",
      "metadata": {
        "colab": {
          "base_uri": "https://localhost:8080/"
        },
        "id": "fn7O5GhljNT-",
        "outputId": "bf75426a-7d92-41f8-c9dc-7551b244de7e"
      },
      "source": [
        "y.value_counts()"
      ],
      "execution_count": 41,
      "outputs": [
        {
          "output_type": "execute_result",
          "data": {
            "text/plain": [
              "R\n",
              "0    111\n",
              "1     97\n",
              "dtype: int64"
            ]
          },
          "metadata": {},
          "execution_count": 41
        }
      ]
    },
    {
      "cell_type": "code",
      "metadata": {
        "colab": {
          "base_uri": "https://localhost:8080/"
        },
        "id": "tjQ3x46mjvaJ",
        "outputId": "974b3a2b-0731-4769-c8e2-25b548cae788"
      },
      "source": [
        "from sklearn.model_selection import train_test_split\n",
        "xtrain, xtest, ytrain, ytest = train_test_split(x,y,random_state=42,test_size=0.25)\n",
        "xtrain.shape"
      ],
      "execution_count": 44,
      "outputs": [
        {
          "output_type": "execute_result",
          "data": {
            "text/plain": [
              "(156, 60)"
            ]
          },
          "metadata": {},
          "execution_count": 44
        }
      ]
    },
    {
      "cell_type": "code",
      "metadata": {
        "id": "NaSyL_ZNkIof"
      },
      "source": [
        "import tensorflow as tf\n",
        "from tensorflow import keras\n",
        "# for hidden layer most popular activation function is relu"
      ],
      "execution_count": 45,
      "outputs": []
    },
    {
      "cell_type": "code",
      "metadata": {
        "colab": {
          "base_uri": "https://localhost:8080/"
        },
        "id": "bfKvOVJjkN2U",
        "outputId": "864b8623-0c84-4b4f-e546-61dc8f7be9fe"
      },
      "source": [
        "model = keras.Sequential([\n",
        "                          keras.layers.Dense(60, input_dim=60, activation='relu'),\n",
        "                          keras.layers.Dense(30, activation='relu'),\n",
        "                          keras.layers.Dense(15, activation='relu'),\n",
        "                          keras.layers.Dense(1, activation='sigmoid')\n",
        "])\n",
        "\n",
        "model.compile(loss= 'binary_crossentropy', optimizer='adam', metrics =['accuracy'])\n",
        "model.fit(xtrain,ytrain, epochs=100, batch_size=8)"
      ],
      "execution_count": 46,
      "outputs": [
        {
          "output_type": "stream",
          "name": "stdout",
          "text": [
            "Epoch 1/100\n",
            "20/20 [==============================] - 1s 2ms/step - loss: 0.7221 - accuracy: 0.5192\n",
            "Epoch 2/100\n",
            "20/20 [==============================] - 0s 2ms/step - loss: 0.6912 - accuracy: 0.4936\n",
            "Epoch 3/100\n",
            "20/20 [==============================] - 0s 2ms/step - loss: 0.6778 - accuracy: 0.5449\n",
            "Epoch 4/100\n",
            "20/20 [==============================] - 0s 2ms/step - loss: 0.6693 - accuracy: 0.6346\n",
            "Epoch 5/100\n",
            "20/20 [==============================] - 0s 2ms/step - loss: 0.6503 - accuracy: 0.6346\n",
            "Epoch 6/100\n",
            "20/20 [==============================] - 0s 2ms/step - loss: 0.6256 - accuracy: 0.6667\n",
            "Epoch 7/100\n",
            "20/20 [==============================] - 0s 2ms/step - loss: 0.6033 - accuracy: 0.7115\n",
            "Epoch 8/100\n",
            "20/20 [==============================] - 0s 2ms/step - loss: 0.5617 - accuracy: 0.7756\n",
            "Epoch 9/100\n",
            "20/20 [==============================] - 0s 2ms/step - loss: 0.5547 - accuracy: 0.7308\n",
            "Epoch 10/100\n",
            "20/20 [==============================] - 0s 2ms/step - loss: 0.4976 - accuracy: 0.7821\n",
            "Epoch 11/100\n",
            "20/20 [==============================] - 0s 2ms/step - loss: 0.4682 - accuracy: 0.8397\n",
            "Epoch 12/100\n",
            "20/20 [==============================] - 0s 2ms/step - loss: 0.4333 - accuracy: 0.8462\n",
            "Epoch 13/100\n",
            "20/20 [==============================] - 0s 2ms/step - loss: 0.4199 - accuracy: 0.8205\n",
            "Epoch 14/100\n",
            "20/20 [==============================] - 0s 2ms/step - loss: 0.4148 - accuracy: 0.8077\n",
            "Epoch 15/100\n",
            "20/20 [==============================] - 0s 2ms/step - loss: 0.3964 - accuracy: 0.8590\n",
            "Epoch 16/100\n",
            "20/20 [==============================] - 0s 2ms/step - loss: 0.3686 - accuracy: 0.8526\n",
            "Epoch 17/100\n",
            "20/20 [==============================] - 0s 2ms/step - loss: 0.3402 - accuracy: 0.8397\n",
            "Epoch 18/100\n",
            "20/20 [==============================] - 0s 2ms/step - loss: 0.3353 - accuracy: 0.8462\n",
            "Epoch 19/100\n",
            "20/20 [==============================] - 0s 2ms/step - loss: 0.3230 - accuracy: 0.8526\n",
            "Epoch 20/100\n",
            "20/20 [==============================] - 0s 2ms/step - loss: 0.2931 - accuracy: 0.8974\n",
            "Epoch 21/100\n",
            "20/20 [==============================] - 0s 2ms/step - loss: 0.2990 - accuracy: 0.8462\n",
            "Epoch 22/100\n",
            "20/20 [==============================] - 0s 2ms/step - loss: 0.2876 - accuracy: 0.8718\n",
            "Epoch 23/100\n",
            "20/20 [==============================] - 0s 2ms/step - loss: 0.2637 - accuracy: 0.8846\n",
            "Epoch 24/100\n",
            "20/20 [==============================] - 0s 2ms/step - loss: 0.2526 - accuracy: 0.9038\n",
            "Epoch 25/100\n",
            "20/20 [==============================] - 0s 2ms/step - loss: 0.2445 - accuracy: 0.9038\n",
            "Epoch 26/100\n",
            "20/20 [==============================] - 0s 2ms/step - loss: 0.2609 - accuracy: 0.8718\n",
            "Epoch 27/100\n",
            "20/20 [==============================] - 0s 2ms/step - loss: 0.2209 - accuracy: 0.9103\n",
            "Epoch 28/100\n",
            "20/20 [==============================] - 0s 2ms/step - loss: 0.2090 - accuracy: 0.9295\n",
            "Epoch 29/100\n",
            "20/20 [==============================] - 0s 2ms/step - loss: 0.2110 - accuracy: 0.9103\n",
            "Epoch 30/100\n",
            "20/20 [==============================] - 0s 2ms/step - loss: 0.1910 - accuracy: 0.9487\n",
            "Epoch 31/100\n",
            "20/20 [==============================] - 0s 2ms/step - loss: 0.1856 - accuracy: 0.9231\n",
            "Epoch 32/100\n",
            "20/20 [==============================] - 0s 2ms/step - loss: 0.1794 - accuracy: 0.9487\n",
            "Epoch 33/100\n",
            "20/20 [==============================] - 0s 2ms/step - loss: 0.1929 - accuracy: 0.9231\n",
            "Epoch 34/100\n",
            "20/20 [==============================] - 0s 2ms/step - loss: 0.1667 - accuracy: 0.9487\n",
            "Epoch 35/100\n",
            "20/20 [==============================] - 0s 2ms/step - loss: 0.1527 - accuracy: 0.9744\n",
            "Epoch 36/100\n",
            "20/20 [==============================] - 0s 2ms/step - loss: 0.1542 - accuracy: 0.9359\n",
            "Epoch 37/100\n",
            "20/20 [==============================] - 0s 2ms/step - loss: 0.1271 - accuracy: 0.9679\n",
            "Epoch 38/100\n",
            "20/20 [==============================] - 0s 2ms/step - loss: 0.1325 - accuracy: 0.9551\n",
            "Epoch 39/100\n",
            "20/20 [==============================] - 0s 2ms/step - loss: 0.1082 - accuracy: 0.9808\n",
            "Epoch 40/100\n",
            "20/20 [==============================] - 0s 2ms/step - loss: 0.1058 - accuracy: 0.9872\n",
            "Epoch 41/100\n",
            "20/20 [==============================] - 0s 2ms/step - loss: 0.1069 - accuracy: 0.9872\n",
            "Epoch 42/100\n",
            "20/20 [==============================] - 0s 2ms/step - loss: 0.0877 - accuracy: 0.9872\n",
            "Epoch 43/100\n",
            "20/20 [==============================] - 0s 2ms/step - loss: 0.0894 - accuracy: 0.9872\n",
            "Epoch 44/100\n",
            "20/20 [==============================] - 0s 2ms/step - loss: 0.0771 - accuracy: 0.9872\n",
            "Epoch 45/100\n",
            "20/20 [==============================] - 0s 2ms/step - loss: 0.0715 - accuracy: 0.9936\n",
            "Epoch 46/100\n",
            "20/20 [==============================] - 0s 2ms/step - loss: 0.0974 - accuracy: 0.9679\n",
            "Epoch 47/100\n",
            "20/20 [==============================] - 0s 2ms/step - loss: 0.0658 - accuracy: 0.9936\n",
            "Epoch 48/100\n",
            "20/20 [==============================] - 0s 2ms/step - loss: 0.0846 - accuracy: 0.9679\n",
            "Epoch 49/100\n",
            "20/20 [==============================] - 0s 2ms/step - loss: 0.0711 - accuracy: 0.9936\n",
            "Epoch 50/100\n",
            "20/20 [==============================] - 0s 2ms/step - loss: 0.0581 - accuracy: 0.9872\n",
            "Epoch 51/100\n",
            "20/20 [==============================] - 0s 2ms/step - loss: 0.0488 - accuracy: 0.9936\n",
            "Epoch 52/100\n",
            "20/20 [==============================] - 0s 2ms/step - loss: 0.0566 - accuracy: 1.0000\n",
            "Epoch 53/100\n",
            "20/20 [==============================] - 0s 2ms/step - loss: 0.0458 - accuracy: 1.0000\n",
            "Epoch 54/100\n",
            "20/20 [==============================] - 0s 2ms/step - loss: 0.0376 - accuracy: 1.0000\n",
            "Epoch 55/100\n",
            "20/20 [==============================] - 0s 2ms/step - loss: 0.0353 - accuracy: 1.0000\n",
            "Epoch 56/100\n",
            "20/20 [==============================] - 0s 2ms/step - loss: 0.0358 - accuracy: 1.0000\n",
            "Epoch 57/100\n",
            "20/20 [==============================] - 0s 2ms/step - loss: 0.0393 - accuracy: 1.0000\n",
            "Epoch 58/100\n",
            "20/20 [==============================] - 0s 2ms/step - loss: 0.0417 - accuracy: 0.9936\n",
            "Epoch 59/100\n",
            "20/20 [==============================] - 0s 2ms/step - loss: 0.0298 - accuracy: 1.0000\n",
            "Epoch 60/100\n",
            "20/20 [==============================] - 0s 2ms/step - loss: 0.0261 - accuracy: 1.0000\n",
            "Epoch 61/100\n",
            "20/20 [==============================] - 0s 2ms/step - loss: 0.0223 - accuracy: 1.0000\n",
            "Epoch 62/100\n",
            "20/20 [==============================] - 0s 2ms/step - loss: 0.0218 - accuracy: 1.0000\n",
            "Epoch 63/100\n",
            "20/20 [==============================] - 0s 2ms/step - loss: 0.0205 - accuracy: 1.0000\n",
            "Epoch 64/100\n",
            "20/20 [==============================] - 0s 2ms/step - loss: 0.0209 - accuracy: 1.0000\n",
            "Epoch 65/100\n",
            "20/20 [==============================] - 0s 2ms/step - loss: 0.0182 - accuracy: 1.0000\n",
            "Epoch 66/100\n",
            "20/20 [==============================] - 0s 2ms/step - loss: 0.0163 - accuracy: 1.0000\n",
            "Epoch 67/100\n",
            "20/20 [==============================] - 0s 2ms/step - loss: 0.0147 - accuracy: 1.0000\n",
            "Epoch 68/100\n",
            "20/20 [==============================] - 0s 2ms/step - loss: 0.0141 - accuracy: 1.0000\n",
            "Epoch 69/100\n",
            "20/20 [==============================] - 0s 2ms/step - loss: 0.0155 - accuracy: 1.0000\n",
            "Epoch 70/100\n",
            "20/20 [==============================] - 0s 2ms/step - loss: 0.0144 - accuracy: 1.0000\n",
            "Epoch 71/100\n",
            "20/20 [==============================] - 0s 2ms/step - loss: 0.0123 - accuracy: 1.0000\n",
            "Epoch 72/100\n",
            "20/20 [==============================] - 0s 2ms/step - loss: 0.0108 - accuracy: 1.0000\n",
            "Epoch 73/100\n",
            "20/20 [==============================] - 0s 2ms/step - loss: 0.0101 - accuracy: 1.0000\n",
            "Epoch 74/100\n",
            "20/20 [==============================] - 0s 2ms/step - loss: 0.0107 - accuracy: 1.0000\n",
            "Epoch 75/100\n",
            "20/20 [==============================] - 0s 2ms/step - loss: 0.0116 - accuracy: 1.0000\n",
            "Epoch 76/100\n",
            "20/20 [==============================] - 0s 2ms/step - loss: 0.0094 - accuracy: 1.0000\n",
            "Epoch 77/100\n",
            "20/20 [==============================] - 0s 2ms/step - loss: 0.0085 - accuracy: 1.0000\n",
            "Epoch 78/100\n",
            "20/20 [==============================] - 0s 2ms/step - loss: 0.0080 - accuracy: 1.0000\n",
            "Epoch 79/100\n",
            "20/20 [==============================] - 0s 2ms/step - loss: 0.0082 - accuracy: 1.0000\n",
            "Epoch 80/100\n",
            "20/20 [==============================] - 0s 2ms/step - loss: 0.0080 - accuracy: 1.0000\n",
            "Epoch 81/100\n",
            "20/20 [==============================] - 0s 2ms/step - loss: 0.0070 - accuracy: 1.0000\n",
            "Epoch 82/100\n",
            "20/20 [==============================] - 0s 2ms/step - loss: 0.0070 - accuracy: 1.0000\n",
            "Epoch 83/100\n",
            "20/20 [==============================] - 0s 2ms/step - loss: 0.0072 - accuracy: 1.0000\n",
            "Epoch 84/100\n",
            "20/20 [==============================] - 0s 2ms/step - loss: 0.0084 - accuracy: 1.0000\n",
            "Epoch 85/100\n",
            "20/20 [==============================] - 0s 2ms/step - loss: 0.0063 - accuracy: 1.0000\n",
            "Epoch 86/100\n",
            "20/20 [==============================] - 0s 2ms/step - loss: 0.0056 - accuracy: 1.0000\n",
            "Epoch 87/100\n",
            "20/20 [==============================] - 0s 2ms/step - loss: 0.0051 - accuracy: 1.0000\n",
            "Epoch 88/100\n",
            "20/20 [==============================] - 0s 2ms/step - loss: 0.0048 - accuracy: 1.0000\n",
            "Epoch 89/100\n",
            "20/20 [==============================] - 0s 2ms/step - loss: 0.0048 - accuracy: 1.0000\n",
            "Epoch 90/100\n",
            "20/20 [==============================] - 0s 2ms/step - loss: 0.0048 - accuracy: 1.0000\n",
            "Epoch 91/100\n",
            "20/20 [==============================] - 0s 2ms/step - loss: 0.0046 - accuracy: 1.0000\n",
            "Epoch 92/100\n",
            "20/20 [==============================] - 0s 2ms/step - loss: 0.0042 - accuracy: 1.0000\n",
            "Epoch 93/100\n",
            "20/20 [==============================] - 0s 2ms/step - loss: 0.0053 - accuracy: 1.0000\n",
            "Epoch 94/100\n",
            "20/20 [==============================] - 0s 2ms/step - loss: 0.0043 - accuracy: 1.0000\n",
            "Epoch 95/100\n",
            "20/20 [==============================] - 0s 3ms/step - loss: 0.0046 - accuracy: 1.0000\n",
            "Epoch 96/100\n",
            "20/20 [==============================] - 0s 2ms/step - loss: 0.0037 - accuracy: 1.0000\n",
            "Epoch 97/100\n",
            "20/20 [==============================] - 0s 2ms/step - loss: 0.0034 - accuracy: 1.0000\n",
            "Epoch 98/100\n",
            "20/20 [==============================] - 0s 2ms/step - loss: 0.0033 - accuracy: 1.0000\n",
            "Epoch 99/100\n",
            "20/20 [==============================] - 0s 2ms/step - loss: 0.0032 - accuracy: 1.0000\n",
            "Epoch 100/100\n",
            "20/20 [==============================] - 0s 2ms/step - loss: 0.0031 - accuracy: 1.0000\n"
          ]
        },
        {
          "output_type": "execute_result",
          "data": {
            "text/plain": [
              "<keras.callbacks.History at 0x7f6bb1936710>"
            ]
          },
          "metadata": {},
          "execution_count": 46
        }
      ]
    },
    {
      "cell_type": "code",
      "metadata": {
        "colab": {
          "base_uri": "https://localhost:8080/"
        },
        "id": "vmBtCTEylWWa",
        "outputId": "ca24cc90-999e-4db6-d794-e24fd2238e97"
      },
      "source": [
        "model.evaluate(xtest,ytest)"
      ],
      "execution_count": 47,
      "outputs": [
        {
          "output_type": "stream",
          "name": "stdout",
          "text": [
            "2/2 [==============================] - 0s 6ms/step - loss: 0.3990 - accuracy: 0.8846\n"
          ]
        },
        {
          "output_type": "execute_result",
          "data": {
            "text/plain": [
              "[0.39900296926498413, 0.8846153616905212]"
            ]
          },
          "metadata": {},
          "execution_count": 47
        }
      ]
    },
    {
      "cell_type": "code",
      "metadata": {
        "id": "a-qoKX0Dl6F5"
      },
      "source": [
        "ypred= np.round(model.predict(xtest).reshape(-1))"
      ],
      "execution_count": 49,
      "outputs": []
    },
    {
      "cell_type": "code",
      "metadata": {
        "colab": {
          "base_uri": "https://localhost:8080/"
        },
        "id": "dvLD64BslvLq",
        "outputId": "89758d9b-0442-4bf6-afc9-63dff71eca04"
      },
      "source": [
        "from sklearn.metrics import classification_report, confusion_matrix\n",
        "print(classification_report(ytest, ypred))"
      ],
      "execution_count": 51,
      "outputs": [
        {
          "output_type": "stream",
          "name": "stdout",
          "text": [
            "              precision    recall  f1-score   support\n",
            "\n",
            "           0       0.93      0.87      0.90        30\n",
            "           1       0.83      0.91      0.87        22\n",
            "\n",
            "    accuracy                           0.88        52\n",
            "   macro avg       0.88      0.89      0.88        52\n",
            "weighted avg       0.89      0.88      0.89        52\n",
            "\n"
          ]
        }
      ]
    },
    {
      "cell_type": "markdown",
      "metadata": {
        "id": "v4eG28fWmj5J"
      },
      "source": [
        "# ***Try model with Drop out regularization***"
      ]
    },
    {
      "cell_type": "code",
      "metadata": {
        "colab": {
          "base_uri": "https://localhost:8080/"
        },
        "id": "c9fB1O73moGU",
        "outputId": "5edd03a7-d414-4e33-875e-a7f3edf532cd"
      },
      "source": [
        "model = keras.Sequential([\n",
        "                          keras.layers.Dense(60, input_dim=60, activation='relu'),\n",
        "                          keras.layers.Dropout(0.5),\n",
        "                          keras.layers.Dense(30, activation='relu'),\n",
        "                          keras.layers.Dropout(0.5),\n",
        "                          keras.layers.Dense(15, activation='relu'),\n",
        "                          keras.layers.Dropout(0.5),\n",
        "                          keras.layers.Dense(1, activation='sigmoid')\n",
        "])\n",
        "\n",
        "model.compile(loss= 'binary_crossentropy', optimizer='adam', metrics =['accuracy'])\n",
        "model.fit(xtrain,ytrain, epochs=100, batch_size=8)"
      ],
      "execution_count": 52,
      "outputs": [
        {
          "output_type": "stream",
          "name": "stdout",
          "text": [
            "Epoch 1/100\n",
            "20/20 [==============================] - 1s 2ms/step - loss: 0.7768 - accuracy: 0.4808\n",
            "Epoch 2/100\n",
            "20/20 [==============================] - 0s 2ms/step - loss: 0.7181 - accuracy: 0.4872\n",
            "Epoch 3/100\n",
            "20/20 [==============================] - 0s 2ms/step - loss: 0.7020 - accuracy: 0.5192\n",
            "Epoch 4/100\n",
            "20/20 [==============================] - 0s 2ms/step - loss: 0.6962 - accuracy: 0.5256\n",
            "Epoch 5/100\n",
            "20/20 [==============================] - 0s 2ms/step - loss: 0.6918 - accuracy: 0.5128\n",
            "Epoch 6/100\n",
            "20/20 [==============================] - 0s 2ms/step - loss: 0.6960 - accuracy: 0.4808\n",
            "Epoch 7/100\n",
            "20/20 [==============================] - 0s 2ms/step - loss: 0.6796 - accuracy: 0.5513\n",
            "Epoch 8/100\n",
            "20/20 [==============================] - 0s 2ms/step - loss: 0.6742 - accuracy: 0.5897\n",
            "Epoch 9/100\n",
            "20/20 [==============================] - 0s 2ms/step - loss: 0.6683 - accuracy: 0.5897\n",
            "Epoch 10/100\n",
            "20/20 [==============================] - 0s 2ms/step - loss: 0.6965 - accuracy: 0.5641\n",
            "Epoch 11/100\n",
            "20/20 [==============================] - 0s 2ms/step - loss: 0.6905 - accuracy: 0.5192\n",
            "Epoch 12/100\n",
            "20/20 [==============================] - 0s 2ms/step - loss: 0.6843 - accuracy: 0.5513\n",
            "Epoch 13/100\n",
            "20/20 [==============================] - 0s 2ms/step - loss: 0.6819 - accuracy: 0.5128\n",
            "Epoch 14/100\n",
            "20/20 [==============================] - 0s 2ms/step - loss: 0.6612 - accuracy: 0.6090\n",
            "Epoch 15/100\n",
            "20/20 [==============================] - 0s 2ms/step - loss: 0.6713 - accuracy: 0.6218\n",
            "Epoch 16/100\n",
            "20/20 [==============================] - 0s 2ms/step - loss: 0.6568 - accuracy: 0.6218\n",
            "Epoch 17/100\n",
            "20/20 [==============================] - 0s 2ms/step - loss: 0.6672 - accuracy: 0.5769\n",
            "Epoch 18/100\n",
            "20/20 [==============================] - 0s 2ms/step - loss: 0.6633 - accuracy: 0.5385\n",
            "Epoch 19/100\n",
            "20/20 [==============================] - 0s 2ms/step - loss: 0.6416 - accuracy: 0.6410\n",
            "Epoch 20/100\n",
            "20/20 [==============================] - 0s 2ms/step - loss: 0.6451 - accuracy: 0.6090\n",
            "Epoch 21/100\n",
            "20/20 [==============================] - 0s 2ms/step - loss: 0.6448 - accuracy: 0.6538\n",
            "Epoch 22/100\n",
            "20/20 [==============================] - 0s 2ms/step - loss: 0.6280 - accuracy: 0.6603\n",
            "Epoch 23/100\n",
            "20/20 [==============================] - 0s 2ms/step - loss: 0.6596 - accuracy: 0.5897\n",
            "Epoch 24/100\n",
            "20/20 [==============================] - 0s 2ms/step - loss: 0.6396 - accuracy: 0.6090\n",
            "Epoch 25/100\n",
            "20/20 [==============================] - 0s 2ms/step - loss: 0.6295 - accuracy: 0.6603\n",
            "Epoch 26/100\n",
            "20/20 [==============================] - 0s 2ms/step - loss: 0.6317 - accuracy: 0.6410\n",
            "Epoch 27/100\n",
            "20/20 [==============================] - 0s 2ms/step - loss: 0.5997 - accuracy: 0.6667\n",
            "Epoch 28/100\n",
            "20/20 [==============================] - 0s 2ms/step - loss: 0.6244 - accuracy: 0.6603\n",
            "Epoch 29/100\n",
            "20/20 [==============================] - 0s 2ms/step - loss: 0.5895 - accuracy: 0.6667\n",
            "Epoch 30/100\n",
            "20/20 [==============================] - 0s 2ms/step - loss: 0.6238 - accuracy: 0.7051\n",
            "Epoch 31/100\n",
            "20/20 [==============================] - 0s 2ms/step - loss: 0.5555 - accuracy: 0.7179\n",
            "Epoch 32/100\n",
            "20/20 [==============================] - 0s 2ms/step - loss: 0.5941 - accuracy: 0.7308\n",
            "Epoch 33/100\n",
            "20/20 [==============================] - 0s 2ms/step - loss: 0.5473 - accuracy: 0.7372\n",
            "Epoch 34/100\n",
            "20/20 [==============================] - 0s 2ms/step - loss: 0.5961 - accuracy: 0.6795\n",
            "Epoch 35/100\n",
            "20/20 [==============================] - 0s 2ms/step - loss: 0.5980 - accuracy: 0.7115\n",
            "Epoch 36/100\n",
            "20/20 [==============================] - 0s 2ms/step - loss: 0.5401 - accuracy: 0.7500\n",
            "Epoch 37/100\n",
            "20/20 [==============================] - 0s 2ms/step - loss: 0.5239 - accuracy: 0.7244\n",
            "Epoch 38/100\n",
            "20/20 [==============================] - 0s 3ms/step - loss: 0.5311 - accuracy: 0.7564\n",
            "Epoch 39/100\n",
            "20/20 [==============================] - 0s 2ms/step - loss: 0.5508 - accuracy: 0.7051\n",
            "Epoch 40/100\n",
            "20/20 [==============================] - 0s 2ms/step - loss: 0.5873 - accuracy: 0.7115\n",
            "Epoch 41/100\n",
            "20/20 [==============================] - 0s 2ms/step - loss: 0.6151 - accuracy: 0.7244\n",
            "Epoch 42/100\n",
            "20/20 [==============================] - 0s 2ms/step - loss: 0.5629 - accuracy: 0.6987\n",
            "Epoch 43/100\n",
            "20/20 [==============================] - 0s 2ms/step - loss: 0.5563 - accuracy: 0.6923\n",
            "Epoch 44/100\n",
            "20/20 [==============================] - 0s 2ms/step - loss: 0.5241 - accuracy: 0.7692\n",
            "Epoch 45/100\n",
            "20/20 [==============================] - 0s 2ms/step - loss: 0.5672 - accuracy: 0.7372\n",
            "Epoch 46/100\n",
            "20/20 [==============================] - 0s 2ms/step - loss: 0.5271 - accuracy: 0.7308\n",
            "Epoch 47/100\n",
            "20/20 [==============================] - 0s 2ms/step - loss: 0.5343 - accuracy: 0.7821\n",
            "Epoch 48/100\n",
            "20/20 [==============================] - 0s 2ms/step - loss: 0.4737 - accuracy: 0.7949\n",
            "Epoch 49/100\n",
            "20/20 [==============================] - 0s 2ms/step - loss: 0.5220 - accuracy: 0.7564\n",
            "Epoch 50/100\n",
            "20/20 [==============================] - 0s 2ms/step - loss: 0.4818 - accuracy: 0.7564\n",
            "Epoch 51/100\n",
            "20/20 [==============================] - 0s 2ms/step - loss: 0.4517 - accuracy: 0.7821\n",
            "Epoch 52/100\n",
            "20/20 [==============================] - 0s 2ms/step - loss: 0.5393 - accuracy: 0.7756\n",
            "Epoch 53/100\n",
            "20/20 [==============================] - 0s 2ms/step - loss: 0.5205 - accuracy: 0.7500\n",
            "Epoch 54/100\n",
            "20/20 [==============================] - 0s 2ms/step - loss: 0.4808 - accuracy: 0.7692\n",
            "Epoch 55/100\n",
            "20/20 [==============================] - 0s 2ms/step - loss: 0.4669 - accuracy: 0.7564\n",
            "Epoch 56/100\n",
            "20/20 [==============================] - 0s 2ms/step - loss: 0.4834 - accuracy: 0.8077\n",
            "Epoch 57/100\n",
            "20/20 [==============================] - 0s 2ms/step - loss: 0.4271 - accuracy: 0.8205\n",
            "Epoch 58/100\n",
            "20/20 [==============================] - 0s 2ms/step - loss: 0.4481 - accuracy: 0.8077\n",
            "Epoch 59/100\n",
            "20/20 [==============================] - 0s 3ms/step - loss: 0.4667 - accuracy: 0.7564\n",
            "Epoch 60/100\n",
            "20/20 [==============================] - 0s 2ms/step - loss: 0.4717 - accuracy: 0.7949\n",
            "Epoch 61/100\n",
            "20/20 [==============================] - 0s 2ms/step - loss: 0.4575 - accuracy: 0.8013\n",
            "Epoch 62/100\n",
            "20/20 [==============================] - 0s 2ms/step - loss: 0.4428 - accuracy: 0.8013\n",
            "Epoch 63/100\n",
            "20/20 [==============================] - 0s 2ms/step - loss: 0.5064 - accuracy: 0.7821\n",
            "Epoch 64/100\n",
            "20/20 [==============================] - 0s 2ms/step - loss: 0.4554 - accuracy: 0.8141\n",
            "Epoch 65/100\n",
            "20/20 [==============================] - 0s 2ms/step - loss: 0.3992 - accuracy: 0.8077\n",
            "Epoch 66/100\n",
            "20/20 [==============================] - 0s 2ms/step - loss: 0.5015 - accuracy: 0.7692\n",
            "Epoch 67/100\n",
            "20/20 [==============================] - 0s 2ms/step - loss: 0.4194 - accuracy: 0.8141\n",
            "Epoch 68/100\n",
            "20/20 [==============================] - 0s 2ms/step - loss: 0.4092 - accuracy: 0.7949\n",
            "Epoch 69/100\n",
            "20/20 [==============================] - 0s 2ms/step - loss: 0.4296 - accuracy: 0.8077\n",
            "Epoch 70/100\n",
            "20/20 [==============================] - 0s 2ms/step - loss: 0.3714 - accuracy: 0.8654\n",
            "Epoch 71/100\n",
            "20/20 [==============================] - 0s 2ms/step - loss: 0.4729 - accuracy: 0.7628\n",
            "Epoch 72/100\n",
            "20/20 [==============================] - 0s 2ms/step - loss: 0.4227 - accuracy: 0.8141\n",
            "Epoch 73/100\n",
            "20/20 [==============================] - 0s 2ms/step - loss: 0.4410 - accuracy: 0.8141\n",
            "Epoch 74/100\n",
            "20/20 [==============================] - 0s 2ms/step - loss: 0.4092 - accuracy: 0.8013\n",
            "Epoch 75/100\n",
            "20/20 [==============================] - 0s 2ms/step - loss: 0.3935 - accuracy: 0.8141\n",
            "Epoch 76/100\n",
            "20/20 [==============================] - 0s 2ms/step - loss: 0.3644 - accuracy: 0.8526\n",
            "Epoch 77/100\n",
            "20/20 [==============================] - 0s 2ms/step - loss: 0.3906 - accuracy: 0.8462\n",
            "Epoch 78/100\n",
            "20/20 [==============================] - 0s 2ms/step - loss: 0.3606 - accuracy: 0.8590\n",
            "Epoch 79/100\n",
            "20/20 [==============================] - 0s 2ms/step - loss: 0.3596 - accuracy: 0.8462\n",
            "Epoch 80/100\n",
            "20/20 [==============================] - 0s 2ms/step - loss: 0.4045 - accuracy: 0.8397\n",
            "Epoch 81/100\n",
            "20/20 [==============================] - 0s 2ms/step - loss: 0.3695 - accuracy: 0.8526\n",
            "Epoch 82/100\n",
            "20/20 [==============================] - 0s 2ms/step - loss: 0.3103 - accuracy: 0.8462\n",
            "Epoch 83/100\n",
            "20/20 [==============================] - 0s 2ms/step - loss: 0.3643 - accuracy: 0.8462\n",
            "Epoch 84/100\n",
            "20/20 [==============================] - 0s 2ms/step - loss: 0.3519 - accuracy: 0.8654\n",
            "Epoch 85/100\n",
            "20/20 [==============================] - 0s 2ms/step - loss: 0.3602 - accuracy: 0.8590\n",
            "Epoch 86/100\n",
            "20/20 [==============================] - 0s 2ms/step - loss: 0.3318 - accuracy: 0.8590\n",
            "Epoch 87/100\n",
            "20/20 [==============================] - 0s 2ms/step - loss: 0.3317 - accuracy: 0.8526\n",
            "Epoch 88/100\n",
            "20/20 [==============================] - 0s 2ms/step - loss: 0.2930 - accuracy: 0.8846\n",
            "Epoch 89/100\n",
            "20/20 [==============================] - 0s 3ms/step - loss: 0.2713 - accuracy: 0.8974\n",
            "Epoch 90/100\n",
            "20/20 [==============================] - 0s 2ms/step - loss: 0.3356 - accuracy: 0.8141\n",
            "Epoch 91/100\n",
            "20/20 [==============================] - 0s 2ms/step - loss: 0.3125 - accuracy: 0.8397\n",
            "Epoch 92/100\n",
            "20/20 [==============================] - 0s 2ms/step - loss: 0.4160 - accuracy: 0.8141\n",
            "Epoch 93/100\n",
            "20/20 [==============================] - 0s 2ms/step - loss: 0.3689 - accuracy: 0.8205\n",
            "Epoch 94/100\n",
            "20/20 [==============================] - 0s 2ms/step - loss: 0.3944 - accuracy: 0.8333\n",
            "Epoch 95/100\n",
            "20/20 [==============================] - 0s 2ms/step - loss: 0.3258 - accuracy: 0.8782\n",
            "Epoch 96/100\n",
            "20/20 [==============================] - 0s 2ms/step - loss: 0.2689 - accuracy: 0.9103\n",
            "Epoch 97/100\n",
            "20/20 [==============================] - 0s 2ms/step - loss: 0.2863 - accuracy: 0.8846\n",
            "Epoch 98/100\n",
            "20/20 [==============================] - 0s 2ms/step - loss: 0.2910 - accuracy: 0.8782\n",
            "Epoch 99/100\n",
            "20/20 [==============================] - 0s 2ms/step - loss: 0.3680 - accuracy: 0.8205\n",
            "Epoch 100/100\n",
            "20/20 [==============================] - 0s 2ms/step - loss: 0.2717 - accuracy: 0.8974\n"
          ]
        },
        {
          "output_type": "execute_result",
          "data": {
            "text/plain": [
              "<keras.callbacks.History at 0x7f6bad5a3f10>"
            ]
          },
          "metadata": {},
          "execution_count": 52
        }
      ]
    },
    {
      "cell_type": "code",
      "metadata": {
        "colab": {
          "base_uri": "https://localhost:8080/"
        },
        "id": "UzhlGl0unEib",
        "outputId": "70a5794d-86dd-4195-b167-7a9a18b4e1a8"
      },
      "source": [
        "model.evaluate(xtest,ytest)"
      ],
      "execution_count": 53,
      "outputs": [
        {
          "output_type": "stream",
          "name": "stdout",
          "text": [
            "2/2 [==============================] - 0s 7ms/step - loss: 0.2550 - accuracy: 0.9231\n"
          ]
        },
        {
          "output_type": "execute_result",
          "data": {
            "text/plain": [
              "[0.2550395727157593, 0.9230769276618958]"
            ]
          },
          "metadata": {},
          "execution_count": 53
        }
      ]
    },
    {
      "cell_type": "code",
      "metadata": {
        "id": "cmZ8SoyknF6L"
      },
      "source": [
        "ypred= np.round(model.predict(xtest).reshape(-1))"
      ],
      "execution_count": 54,
      "outputs": []
    },
    {
      "cell_type": "code",
      "metadata": {
        "colab": {
          "base_uri": "https://localhost:8080/"
        },
        "id": "6PkhVm40nHZF",
        "outputId": "9c4fa84e-e433-4f86-e3cc-659c27b9b7c9"
      },
      "source": [
        "from sklearn.metrics import classification_report, confusion_matrix\n",
        "print(classification_report(ytest, ypred))"
      ],
      "execution_count": 55,
      "outputs": [
        {
          "output_type": "stream",
          "name": "stdout",
          "text": [
            "              precision    recall  f1-score   support\n",
            "\n",
            "           0       0.93      0.93      0.93        30\n",
            "           1       0.91      0.91      0.91        22\n",
            "\n",
            "    accuracy                           0.92        52\n",
            "   macro avg       0.92      0.92      0.92        52\n",
            "weighted avg       0.92      0.92      0.92        52\n",
            "\n"
          ]
        }
      ]
    },
    {
      "cell_type": "markdown",
      "metadata": {
        "id": "nCXpsNoFoEQb"
      },
      "source": [
        "# ***drop out regularization is mostly used in the computer vision problems where overfitting is happening***"
      ]
    },
    {
      "cell_type": "code",
      "metadata": {
        "id": "cX70R361oLWw"
      },
      "source": [
        ""
      ],
      "execution_count": null,
      "outputs": []
    }
  ]
}