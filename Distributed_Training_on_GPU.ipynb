{
  "nbformat": 4,
  "nbformat_minor": 0,
  "metadata": {
    "colab": {
      "name": "Distributed Training on GPU.ipynb",
      "provenance": [],
      "authorship_tag": "ABX9TyNOapxsfCAkP32XUmmFvE0y",
      "include_colab_link": true
    },
    "kernelspec": {
      "name": "python3",
      "display_name": "Python 3"
    },
    "language_info": {
      "name": "python"
    },
    "accelerator": "GPU"
  },
  "cells": [
    {
      "cell_type": "markdown",
      "metadata": {
        "id": "view-in-github",
        "colab_type": "text"
      },
      "source": [
        "<a href=\"https://colab.research.google.com/github/AftabUdaipurwala/Deeplearning/blob/main/Distributed_Training_on_GPU.ipynb\" target=\"_parent\"><img src=\"https://colab.research.google.com/assets/colab-badge.svg\" alt=\"Open In Colab\"/></a>"
      ]
    },
    {
      "cell_type": "code",
      "metadata": {
        "id": "zmLS3YSOc-9w"
      },
      "source": [
        "import cv2\n",
        "import pandas as pd\n",
        "import numpy as np\n",
        "from sklearn import linear_model\n",
        "from google.colab import drive\n",
        "import matplotlib.pyplot as plt\n",
        "%matplotlib inline\n",
        "import matplotlib\n",
        "matplotlib.rcParams['figure.figsize']=(20,10)\n",
        "from scipy import stats\n",
        "import warnings\n",
        "warnings.filterwarnings(\"ignore\")\n",
        "import seaborn as sns\n",
        "from google.colab.patches import cv2_imshow\n",
        "import tensorflow as tf\n",
        "from tensorflow import keras\n",
        "import os\n",
        "from tensorflow.keras import layers\n",
        "from tensorflow.keras.models import Sequential\n",
        "import PIL\n",
        "import tensorflow_datasets as tfds\n",
        "from tensorflow.keras import datasets, layers, models\n"
      ],
      "execution_count": 8,
      "outputs": []
    },
    {
      "cell_type": "code",
      "metadata": {
        "colab": {
          "base_uri": "https://localhost:8080/"
        },
        "id": "N7ng-pkVjLpT",
        "outputId": "8a094a74-a8c5-4389-fae0-e35a6ed2a1b2"
      },
      "source": [
        "!nvidia-smi"
      ],
      "execution_count": 9,
      "outputs": [
        {
          "output_type": "stream",
          "name": "stdout",
          "text": [
            "Mon Dec  6 02:28:59 2021       \n",
            "+-----------------------------------------------------------------------------+\n",
            "| NVIDIA-SMI 495.44       Driver Version: 460.32.03    CUDA Version: 11.2     |\n",
            "|-------------------------------+----------------------+----------------------+\n",
            "| GPU  Name        Persistence-M| Bus-Id        Disp.A | Volatile Uncorr. ECC |\n",
            "| Fan  Temp  Perf  Pwr:Usage/Cap|         Memory-Usage | GPU-Util  Compute M. |\n",
            "|                               |                      |               MIG M. |\n",
            "|===============================+======================+======================|\n",
            "|   0  Tesla K80           Off  | 00000000:00:04.0 Off |                    0 |\n",
            "| N/A   31C    P8    29W / 149W |      0MiB / 11441MiB |      0%      Default |\n",
            "|                               |                      |                  N/A |\n",
            "+-------------------------------+----------------------+----------------------+\n",
            "                                                                               \n",
            "+-----------------------------------------------------------------------------+\n",
            "| Processes:                                                                  |\n",
            "|  GPU   GI   CI        PID   Type   Process name                  GPU Memory |\n",
            "|        ID   ID                                                   Usage      |\n",
            "|=============================================================================|\n",
            "|  No running processes found                                                 |\n",
            "+-----------------------------------------------------------------------------+\n"
          ]
        }
      ]
    },
    {
      "cell_type": "code",
      "metadata": {
        "colab": {
          "base_uri": "https://localhost:8080/"
        },
        "id": "L5Lz-o8Wj8J0",
        "outputId": "4d559f57-ff96-4ebe-afed-0c0cac7040ca"
      },
      "source": [
        "!ls '/content/drive/MyDrive/py-master/DeepLearningML/16_cnn_cifar10_small_image_classification/'"
      ],
      "execution_count": 10,
      "outputs": [
        {
          "output_type": "stream",
          "name": "stdout",
          "text": [
            "ls: cannot access '/content/drive/MyDrive/py-master/DeepLearningML/16_cnn_cifar10_small_image_classification/': No such file or directory\n"
          ]
        }
      ]
    },
    {
      "cell_type": "code",
      "metadata": {
        "colab": {
          "base_uri": "https://localhost:8080/"
        },
        "id": "HwXP4ikvj-Rz",
        "outputId": "794341fa-e2f3-4c00-93f9-56537e8c1c2c"
      },
      "source": [
        "(xtrain, ytrain), (xtest, ytest) = datasets.cifar10.load_data()"
      ],
      "execution_count": 11,
      "outputs": [
        {
          "output_type": "stream",
          "name": "stdout",
          "text": [
            "Downloading data from https://www.cs.toronto.edu/~kriz/cifar-10-python.tar.gz\n",
            "170500096/170498071 [==============================] - 11s 0us/step\n",
            "170508288/170498071 [==============================] - 11s 0us/step\n"
          ]
        }
      ]
    },
    {
      "cell_type": "code",
      "metadata": {
        "colab": {
          "base_uri": "https://localhost:8080/"
        },
        "id": "2W57ZlE9kvAy",
        "outputId": "173662ef-f462-4325-d147-1dfaaf8d8db8"
      },
      "source": [
        "tf.config.experimental.list_physical_devices()"
      ],
      "execution_count": 22,
      "outputs": [
        {
          "output_type": "execute_result",
          "data": {
            "text/plain": [
              "[PhysicalDevice(name='/physical_device:CPU:0', device_type='CPU'),\n",
              " PhysicalDevice(name='/physical_device:GPU:0', device_type='GPU')]"
            ]
          },
          "metadata": {},
          "execution_count": 22
        }
      ]
    },
    {
      "cell_type": "code",
      "metadata": {
        "colab": {
          "base_uri": "https://localhost:8080/"
        },
        "id": "My6PgkYzj-PD",
        "outputId": "bdafca65-1b53-46c1-cdb3-3f0046b2f2c2"
      },
      "source": [
        "xtrain.shape"
      ],
      "execution_count": 12,
      "outputs": [
        {
          "output_type": "execute_result",
          "data": {
            "text/plain": [
              "(50000, 32, 32, 3)"
            ]
          },
          "metadata": {},
          "execution_count": 12
        }
      ]
    },
    {
      "cell_type": "code",
      "metadata": {
        "colab": {
          "base_uri": "https://localhost:8080/"
        },
        "id": "eYr5Xjj0j-L0",
        "outputId": "755da146-4dbf-4dc8-ea99-e6348204b7c5"
      },
      "source": [
        "xtest.shape"
      ],
      "execution_count": 13,
      "outputs": [
        {
          "output_type": "execute_result",
          "data": {
            "text/plain": [
              "(10000, 32, 32, 3)"
            ]
          },
          "metadata": {},
          "execution_count": 13
        }
      ]
    },
    {
      "cell_type": "code",
      "metadata": {
        "id": "SisM86Huj-Ij"
      },
      "source": [
        "classes = ['airplane','automobile','bird','cat','deer','dog','frog','horse','ship','truck']"
      ],
      "execution_count": 14,
      "outputs": []
    },
    {
      "cell_type": "code",
      "metadata": {
        "colab": {
          "base_uri": "https://localhost:8080/"
        },
        "id": "pKxjWsM6j-FT",
        "outputId": "c500961c-def8-41e9-f1da-f757c6af1748"
      },
      "source": [
        "ytest = ytest.reshape(-1,)\n",
        "ytest[:5]"
      ],
      "execution_count": 15,
      "outputs": [
        {
          "output_type": "execute_result",
          "data": {
            "text/plain": [
              "array([3, 8, 8, 0, 6], dtype=uint8)"
            ]
          },
          "metadata": {},
          "execution_count": 15
        }
      ]
    },
    {
      "cell_type": "code",
      "metadata": {
        "colab": {
          "base_uri": "https://localhost:8080/"
        },
        "id": "AjBA-QUQj-Cj",
        "outputId": "d95f2da1-3f31-4074-8ed6-c9953f2735e9"
      },
      "source": [
        "ytrain = ytrain.reshape(-1,)\n",
        "ytrain[:5]"
      ],
      "execution_count": 16,
      "outputs": [
        {
          "output_type": "execute_result",
          "data": {
            "text/plain": [
              "array([6, 9, 9, 4, 1], dtype=uint8)"
            ]
          },
          "metadata": {},
          "execution_count": 16
        }
      ]
    },
    {
      "cell_type": "code",
      "metadata": {
        "id": "PikovR0wj-AF"
      },
      "source": [
        "def plot_sample(x,y,index):\n",
        "  plt.figure(figsize=(15,2))\n",
        "  plt.imshow(x[index])\n",
        "  plt.xlabel(classes[y[index]])\n"
      ],
      "execution_count": 17,
      "outputs": []
    },
    {
      "cell_type": "code",
      "metadata": {
        "colab": {
          "base_uri": "https://localhost:8080/",
          "height": 173
        },
        "id": "Ac3_4Y6mj988",
        "outputId": "c15a72cd-6b5a-4322-805c-717dd684d9a8"
      },
      "source": [
        "plot_sample(xtrain,ytrain,6)"
      ],
      "execution_count": 18,
      "outputs": [
        {
          "output_type": "display_data",
          "data": {
            "image/png": "[encoded data removed]",
            "text/plain": [
              "<Figure size 1080x144 with 1 Axes>"
            ]
          },
          "metadata": {
            "needs_background": "light"
          }
        }
      ]
    },
    {
      "cell_type": "code",
      "metadata": {
        "id": "Ekzk_jUIj957"
      },
      "source": [
        "xtrain = xtrain/255 # scaling the pics to make it easier for computer to process\n",
        "xtest = xtest/255"
      ],
      "execution_count": 19,
      "outputs": []
    },
    {
      "cell_type": "code",
      "metadata": {
        "id": "OGqRGsizl-NS"
      },
      "source": [
        "ytrain_categorical = keras.utils.to_categorical(ytrain,num_classes=10,dtype='float32')\n",
        "ytest_categorical = keras.utils.to_categorical(ytest,num_classes=10,dtype='float32') # converting training & testing to categorical variable to make tf dataset"
      ],
      "execution_count": 26,
      "outputs": []
    },
    {
      "cell_type": "code",
      "metadata": {
        "id": "jmPx8u6sl-Ji"
      },
      "source": [
        "def get_model():\n",
        "  model= keras.Sequential([\n",
        "                           keras.layers.Flatten(input_shape=(32,32,3)),\n",
        "                           keras.layers.Dense(3000, activation='relu'),\n",
        "                           keras.layers.Dense(1000, activation ='relu'),\n",
        "                           keras.layers.Dense(10,activation='sigmoid')\n",
        "  ])\n",
        "  model.compile(optimizer ='adam', loss ='categorical_crossentropy',metrics=['accuracy'])\n",
        "  return model"
      ],
      "execution_count": 23,
      "outputs": []
    },
    {
      "cell_type": "code",
      "metadata": {
        "id": "YBRKQwHll98h"
      },
      "source": [
        "train_tf_dataset = tf.data.Dataset.from_tensor_slices((xtrain,ytrain_categorical))\n",
        "test_tf_dataset = tf.data.Dataset.from_tensor_slices((xtest,ytest_categorical))"
      ],
      "execution_count": 28,
      "outputs": []
    },
    {
      "cell_type": "code",
      "metadata": {
        "colab": {
          "base_uri": "https://localhost:8080/"
        },
        "id": "KHVa_NqXn4ug",
        "outputId": "a32061b7-077f-4cab-df7c-433bb30f93e6"
      },
      "source": [
        "strategy = tf.distribute.MirroredStrategy()\n",
        "strategy.num_replicas_in_sync # since i am using only 1 gpu on colab hence not having more than 1 mirrors"
      ],
      "execution_count": 29,
      "outputs": [
        {
          "output_type": "stream",
          "name": "stdout",
          "text": [
            "INFO:tensorflow:Using MirroredStrategy with devices ('/job:localhost/replica:0/task:0/device:GPU:0',)\n"
          ]
        },
        {
          "output_type": "execute_result",
          "data": {
            "text/plain": [
              "1"
            ]
          },
          "metadata": {},
          "execution_count": 29
        }
      ]
    },
    {
      "cell_type": "code",
      "metadata": {
        "id": "QANtx-zmoOcR"
      },
      "source": [
        "AUTOTUNE = tf.data.experimental.AUTOTUNE\n",
        "\n",
        "# Creating batches for running the models\n",
        "\n",
        "Batch_size_per_replica=250\n",
        "Batch_size =Batch_size_per_replica*strategy.num_replicas_in_sync\n",
        "train_batch= train_tf_dataset.batch(Batch_size).prefetch(tf.data.AUTOTUNE)\n",
        "test_batch= test_tf_dataset.batch(Batch_size)"
      ],
      "execution_count": 37,
      "outputs": []
    },
    {
      "cell_type": "code",
      "metadata": {
        "colab": {
          "base_uri": "https://localhost:8080/"
        },
        "id": "6LUovHMRpF-w",
        "outputId": "1498d062-01df-4601-c5c9-e1543c8c0a5b"
      },
      "source": [
        "%%timeit -n1 -r1\n",
        "with strategy.scope():\n",
        "  gpu_model=get_model()\n",
        "  gpu_model.fit(train_batch,epochs=50)"
      ],
      "execution_count": 35,
      "outputs": [
        {
          "output_type": "stream",
          "name": "stdout",
          "text": [
            "INFO:tensorflow:Reduce to /job:localhost/replica:0/task:0/device:CPU:0 then broadcast to ('/job:localhost/replica:0/task:0/device:CPU:0',).\n",
            "INFO:tensorflow:Reduce to /job:localhost/replica:0/task:0/device:CPU:0 then broadcast to ('/job:localhost/replica:0/task:0/device:CPU:0',).\n",
            "INFO:tensorflow:Reduce to /job:localhost/replica:0/task:0/device:CPU:0 then broadcast to ('/job:localhost/replica:0/task:0/device:CPU:0',).\n",
            "INFO:tensorflow:Reduce to /job:localhost/replica:0/task:0/device:CPU:0 then broadcast to ('/job:localhost/replica:0/task:0/device:CPU:0',).\n",
            "Epoch 1/50\n",
            "INFO:tensorflow:Reduce to /job:localhost/replica:0/task:0/device:CPU:0 then broadcast to ('/job:localhost/replica:0/task:0/device:CPU:0',).\n",
            "INFO:tensorflow:Reduce to /job:localhost/replica:0/task:0/device:CPU:0 then broadcast to ('/job:localhost/replica:0/task:0/device:CPU:0',).\n",
            "200/200 [==============================] - 6s 18ms/step - loss: 2.1934 - accuracy: 0.2867\n",
            "Epoch 2/50\n",
            "200/200 [==============================] - 4s 18ms/step - loss: 1.7072 - accuracy: 0.3898\n",
            "Epoch 3/50\n",
            "200/200 [==============================] - 4s 18ms/step - loss: 1.6148 - accuracy: 0.4254\n",
            "Epoch 4/50\n",
            "200/200 [==============================] - 4s 18ms/step - loss: 1.5505 - accuracy: 0.4478\n",
            "Epoch 5/50\n",
            "200/200 [==============================] - 4s 18ms/step - loss: 1.4951 - accuracy: 0.4672\n",
            "Epoch 6/50\n",
            "200/200 [==============================] - 4s 18ms/step - loss: 1.4538 - accuracy: 0.4818\n",
            "Epoch 7/50\n",
            "200/200 [==============================] - 4s 18ms/step - loss: 1.4208 - accuracy: 0.4933\n",
            "Epoch 8/50\n",
            "200/200 [==============================] - 4s 18ms/step - loss: 1.3863 - accuracy: 0.5079\n",
            "Epoch 9/50\n",
            "200/200 [==============================] - 4s 18ms/step - loss: 1.3565 - accuracy: 0.5175\n",
            "Epoch 10/50\n",
            "200/200 [==============================] - 4s 18ms/step - loss: 1.3294 - accuracy: 0.5292\n",
            "Epoch 11/50\n",
            "200/200 [==============================] - 4s 18ms/step - loss: 1.3029 - accuracy: 0.5388\n",
            "Epoch 12/50\n",
            "200/200 [==============================] - 4s 18ms/step - loss: 1.2822 - accuracy: 0.5454\n",
            "Epoch 13/50\n",
            "200/200 [==============================] - 4s 18ms/step - loss: 1.2565 - accuracy: 0.5549\n",
            "Epoch 14/50\n",
            "200/200 [==============================] - 4s 18ms/step - loss: 1.2326 - accuracy: 0.5617\n",
            "Epoch 15/50\n",
            "200/200 [==============================] - 4s 18ms/step - loss: 1.2125 - accuracy: 0.5705\n",
            "Epoch 16/50\n",
            "200/200 [==============================] - 4s 18ms/step - loss: 1.1952 - accuracy: 0.5763\n",
            "Epoch 17/50\n",
            "200/200 [==============================] - 4s 18ms/step - loss: 1.1724 - accuracy: 0.5843\n",
            "Epoch 18/50\n",
            "200/200 [==============================] - 4s 18ms/step - loss: 1.1514 - accuracy: 0.5923\n",
            "Epoch 19/50\n",
            "200/200 [==============================] - 4s 18ms/step - loss: 1.1337 - accuracy: 0.5965\n",
            "Epoch 20/50\n",
            "200/200 [==============================] - 4s 18ms/step - loss: 1.1089 - accuracy: 0.6094\n",
            "Epoch 21/50\n",
            "200/200 [==============================] - 4s 18ms/step - loss: 1.0945 - accuracy: 0.6142\n",
            "Epoch 22/50\n",
            "200/200 [==============================] - 4s 18ms/step - loss: 1.0773 - accuracy: 0.6182\n",
            "Epoch 23/50\n",
            "200/200 [==============================] - 4s 18ms/step - loss: 1.0654 - accuracy: 0.6223\n",
            "Epoch 24/50\n",
            "200/200 [==============================] - 4s 18ms/step - loss: 1.0407 - accuracy: 0.6311\n",
            "Epoch 25/50\n",
            "200/200 [==============================] - 4s 18ms/step - loss: 1.0218 - accuracy: 0.6385\n",
            "Epoch 26/50\n",
            "200/200 [==============================] - 4s 18ms/step - loss: 1.0103 - accuracy: 0.6403\n",
            "Epoch 27/50\n",
            "200/200 [==============================] - 4s 18ms/step - loss: 0.9979 - accuracy: 0.6452\n",
            "Epoch 28/50\n",
            "200/200 [==============================] - 4s 18ms/step - loss: 0.9951 - accuracy: 0.6466\n",
            "Epoch 29/50\n",
            "200/200 [==============================] - 4s 18ms/step - loss: 0.9818 - accuracy: 0.6508\n",
            "Epoch 30/50\n",
            "200/200 [==============================] - 4s 18ms/step - loss: 0.9700 - accuracy: 0.6544\n",
            "Epoch 31/50\n",
            "200/200 [==============================] - 4s 18ms/step - loss: 0.9508 - accuracy: 0.6631\n",
            "Epoch 32/50\n",
            "200/200 [==============================] - 4s 18ms/step - loss: 0.9407 - accuracy: 0.6669\n",
            "Epoch 33/50\n",
            "200/200 [==============================] - 4s 18ms/step - loss: 0.9399 - accuracy: 0.6656\n",
            "Epoch 34/50\n",
            "200/200 [==============================] - 4s 18ms/step - loss: 0.9353 - accuracy: 0.6653\n",
            "Epoch 35/50\n",
            "200/200 [==============================] - 4s 18ms/step - loss: 0.9213 - accuracy: 0.6715\n",
            "Epoch 36/50\n",
            "200/200 [==============================] - 4s 18ms/step - loss: 0.9137 - accuracy: 0.6731\n",
            "Epoch 37/50\n",
            "200/200 [==============================] - 4s 18ms/step - loss: 0.9064 - accuracy: 0.6768\n",
            "Epoch 38/50\n",
            "200/200 [==============================] - 4s 18ms/step - loss: 0.8942 - accuracy: 0.6834\n",
            "Epoch 39/50\n",
            "200/200 [==============================] - 4s 18ms/step - loss: 0.8666 - accuracy: 0.6924\n",
            "Epoch 40/50\n",
            "200/200 [==============================] - 4s 18ms/step - loss: 0.8471 - accuracy: 0.6994\n",
            "Epoch 41/50\n",
            "200/200 [==============================] - 4s 18ms/step - loss: 0.8423 - accuracy: 0.7006\n",
            "Epoch 42/50\n",
            "200/200 [==============================] - 4s 18ms/step - loss: 0.8507 - accuracy: 0.6986\n",
            "Epoch 43/50\n",
            "200/200 [==============================] - 4s 18ms/step - loss: 0.8235 - accuracy: 0.7080\n",
            "Epoch 44/50\n",
            "200/200 [==============================] - 4s 18ms/step - loss: 0.8176 - accuracy: 0.7051\n",
            "Epoch 45/50\n",
            "200/200 [==============================] - 4s 18ms/step - loss: 0.8034 - accuracy: 0.7133\n",
            "Epoch 46/50\n",
            "200/200 [==============================] - 4s 18ms/step - loss: 0.8038 - accuracy: 0.7117\n",
            "Epoch 47/50\n",
            "200/200 [==============================] - 4s 18ms/step - loss: 0.8036 - accuracy: 0.7111\n",
            "Epoch 48/50\n",
            "200/200 [==============================] - 4s 18ms/step - loss: 0.8039 - accuracy: 0.7101\n",
            "Epoch 49/50\n",
            "200/200 [==============================] - 4s 18ms/step - loss: 0.7993 - accuracy: 0.7123\n",
            "Epoch 50/50\n",
            "200/200 [==============================] - 4s 18ms/step - loss: 0.7908 - accuracy: 0.7179\n"
          ]
        }
      ]
    },
    {
      "cell_type": "code",
      "metadata": {
        "colab": {
          "base_uri": "https://localhost:8080/"
        },
        "id": "im7kv6ffkV3S",
        "outputId": "6a39a061-8927-450e-d83f-a7467d1392ff"
      },
      "source": [
        "from sklearn.metrics import classification_report, confusion_matrix\n",
        "import numpy as np\n",
        "ypred = gpu_model.predict(test_batch)\n",
        "ypred_classes = [np.argmax(element) for element in ypred]\n",
        "print(classification_report(ytest, ypred_classes))"
      ],
      "execution_count": 38,
      "outputs": [
        {
          "output_type": "stream",
          "name": "stdout",
          "text": [
            "              precision    recall  f1-score   support\n",
            "\n",
            "           0       0.58      0.57      0.57      1000\n",
            "           1       0.58      0.67      0.62      1000\n",
            "           2       0.39      0.40      0.39      1000\n",
            "           3       0.34      0.28      0.31      1000\n",
            "           4       0.41      0.40      0.40      1000\n",
            "           5       0.40      0.39      0.40      1000\n",
            "           6       0.52      0.54      0.53      1000\n",
            "           7       0.57      0.55      0.56      1000\n",
            "           8       0.63      0.60      0.61      1000\n",
            "           9       0.53      0.56      0.55      1000\n",
            "\n",
            "    accuracy                           0.50     10000\n",
            "   macro avg       0.49      0.50      0.49     10000\n",
            "weighted avg       0.49      0.50      0.49     10000\n",
            "\n"
          ]
        }
      ]
    }
  ]
}