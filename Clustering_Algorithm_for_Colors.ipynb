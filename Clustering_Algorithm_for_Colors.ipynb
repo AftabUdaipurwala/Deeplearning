{
  "nbformat": 4,
  "nbformat_minor": 0,
  "metadata": {
    "colab": {
      "name": "Clustering Algorithm for Colors.ipynb",
      "provenance": [],
      "authorship_tag": "ABX9TyOki4EDETDDb8KxqB7EVYow",
      "include_colab_link": true
    },
    "kernelspec": {
      "name": "python3",
      "display_name": "Python 3"
    },
    "language_info": {
      "name": "python"
    }
  },
  "cells": [
    {
      "cell_type": "markdown",
      "metadata": {
        "id": "view-in-github",
        "colab_type": "text"
      },
      "source": [
        "<a href=\"https://colab.research.google.com/github/AftabUdaipurwala/Deeplearning/blob/main/Clustering_Algorithm_for_Colors.ipynb\" target=\"_parent\"><img src=\"https://colab.research.google.com/assets/colab-badge.svg\" alt=\"Open In Colab\"/></a>"
      ]
    },
    {
      "cell_type": "code",
      "metadata": {
        "id": "DhFAsvM_cC5Q"
      },
      "source": [
        "import pandas as pd\n",
        "import numpy as np\n",
        "from sklearn import linear_model\n",
        "from google.colab import drive\n",
        "import matplotlib.pyplot as plt\n",
        "%matplotlib inline\n",
        "import matplotlib\n",
        "matplotlib.rcParams['figure.figsize']=(20,10)\n",
        "from scipy import stats\n",
        "import warnings\n",
        "warnings.filterwarnings(\"ignore\")\n",
        "import seaborn as sns\n",
        "\n",
        "from sklearn.cluster import KMeans\n",
        "from sklearn.preprocessing import MinMaxScaler\n",
        "import matplotlib.pyplot as plt\n",
        "\n",
        "from mpl_toolkits.mplot3d import Axes3D\n",
        "import plotly.graph_objs as go\n",
        "from plotly import tools\n",
        "from plotly.subplots import make_subplots\n",
        "import plotly.offline as py"
      ],
      "execution_count": null,
      "outputs": []
    },
    {
      "cell_type": "code",
      "metadata": {
        "colab": {
          "base_uri": "https://localhost:8080/"
        },
        "id": "nQvYByStcG2Z",
        "outputId": "938c0dea-e99f-402f-f8f0-ef259bd49df5"
      },
      "source": [
        "drive.mount('/content/drive')"
      ],
      "execution_count": null,
      "outputs": [
        {
          "output_type": "stream",
          "name": "stdout",
          "text": [
            "Mounted at /content/drive\n"
          ]
        }
      ]
    },
    {
      "cell_type": "code",
      "metadata": {
        "colab": {
          "base_uri": "https://localhost:8080/"
        },
        "id": "niI7wMdJcriL",
        "outputId": "6101256f-306e-4afe-c364-396517ca7662"
      },
      "source": [
        "!ls '/content/drive/MyDrive/py-master/ML/13_kmeans/' # listing all the contents in the drive"
      ],
      "execution_count": null,
      "outputs": [
        {
          "output_type": "stream",
          "name": "stdout",
          "text": [
            "/content/drive/MyDrive/py-master/ML/13_kmeans/colour_shades_LCH_Values.csv\n"
          ]
        }
      ]
    },
    {
      "cell_type": "code",
      "metadata": {
        "colab": {
          "base_uri": "https://localhost:8080/",
          "height": 202
        },
        "id": "Eg9r9Lr3dbmw",
        "outputId": "35a4cae1-89d6-4f43-c387-05a4a8f0f77c"
      },
      "source": [
        "df = pd.read_csv('/content/drive/MyDrive/py-master/ML/13_kmeans/colour_shades_LCH_Values.csv')\n",
        "df.head()\n"
      ],
      "execution_count": null,
      "outputs": [
        {
          "output_type": "execute_result",
          "data": {
            "text/html": [
              "<div>\n",
              "<style scoped>\n",
              "    .dataframe tbody tr th:only-of-type {\n",
              "        vertical-align: middle;\n",
              "    }\n",
              "\n",
              "    .dataframe tbody tr th {\n",
              "        vertical-align: top;\n",
              "    }\n",
              "\n",
              "    .dataframe thead th {\n",
              "        text-align: right;\n",
              "    }\n",
              "</style>\n",
              "<table border=\"1\" class=\"dataframe\">\n",
              "  <thead>\n",
              "    <tr style=\"text-align: right;\">\n",
              "      <th></th>\n",
              "      <th>Colour</th>\n",
              "      <th>L</th>\n",
              "      <th>A</th>\n",
              "      <th>B</th>\n",
              "      <th>C</th>\n",
              "      <th>H</th>\n",
              "    </tr>\n",
              "  </thead>\n",
              "  <tbody>\n",
              "    <tr>\n",
              "      <th>0</th>\n",
              "      <td>BR473</td>\n",
              "      <td>27.58</td>\n",
              "      <td>5.15</td>\n",
              "      <td>-4.70</td>\n",
              "      <td>6.97</td>\n",
              "      <td>317.60</td>\n",
              "    </tr>\n",
              "    <tr>\n",
              "      <th>1</th>\n",
              "      <td>MA485</td>\n",
              "      <td>27.60</td>\n",
              "      <td>8.53</td>\n",
              "      <td>-0.56</td>\n",
              "      <td>8.55</td>\n",
              "      <td>356.24</td>\n",
              "    </tr>\n",
              "    <tr>\n",
              "      <th>2</th>\n",
              "      <td>BLP12</td>\n",
              "      <td>28.36</td>\n",
              "      <td>9.40</td>\n",
              "      <td>-25.72</td>\n",
              "      <td>27.38</td>\n",
              "      <td>290.08</td>\n",
              "    </tr>\n",
              "    <tr>\n",
              "      <th>3</th>\n",
              "      <td>BR205</td>\n",
              "      <td>28.47</td>\n",
              "      <td>3.23</td>\n",
              "      <td>0.87</td>\n",
              "      <td>3.35</td>\n",
              "      <td>15.03</td>\n",
              "    </tr>\n",
              "    <tr>\n",
              "      <th>4</th>\n",
              "      <td>MA149</td>\n",
              "      <td>28.78</td>\n",
              "      <td>12.58</td>\n",
              "      <td>0.41</td>\n",
              "      <td>12.59</td>\n",
              "      <td>1.85</td>\n",
              "    </tr>\n",
              "  </tbody>\n",
              "</table>\n",
              "</div>"
            ],
            "text/plain": [
              "  Colour      L      A      B     C        H\n",
              "0  BR473  27.58   5.15  -4.70   6.97  317.60\n",
              "1  MA485  27.60   8.53  -0.56   8.55  356.24\n",
              "2  BLP12  28.36   9.40 -25.72  27.38  290.08\n",
              "3  BR205  28.47   3.23   0.87   3.35   15.03\n",
              "4  MA149  28.78  12.58   0.41  12.59    1.85"
            ]
          },
          "metadata": {},
          "execution_count": 10
        }
      ]
    },
    {
      "cell_type": "code",
      "metadata": {
        "id": "gZDo-3DjevGI"
      },
      "source": [
        "df.columns = ['Colour', 'L', 'A', 'B', 'C', 'H']"
      ],
      "execution_count": null,
      "outputs": []
    },
    {
      "cell_type": "code",
      "metadata": {
        "colab": {
          "base_uri": "https://localhost:8080/"
        },
        "id": "y7Y0BBBJdo8d",
        "outputId": "63d40f1d-fff4-4d24-b815-7a3b073b04ff"
      },
      "source": [
        "km = KMeans(n_clusters=21, random_state=42)\n",
        "km"
      ],
      "execution_count": null,
      "outputs": [
        {
          "output_type": "execute_result",
          "data": {
            "text/plain": [
              "KMeans(algorithm='auto', copy_x=True, init='k-means++', max_iter=300,\n",
              "       n_clusters=21, n_init=10, n_jobs=None, precompute_distances='auto',\n",
              "       random_state=42, tol=0.0001, verbose=0)"
            ]
          },
          "metadata": {},
          "execution_count": 139
        }
      ]
    },
    {
      "cell_type": "code",
      "metadata": {
        "colab": {
          "base_uri": "https://localhost:8080/"
        },
        "id": "rA-ivnVyd6fJ",
        "outputId": "3b232c41-9cc4-465e-808e-ce4c937181ee"
      },
      "source": [
        "scaler = MinMaxScaler()\n",
        "scaler.fit(df[['L']])\n",
        "df['L']= scaler.transform(df[['L']])\n",
        "scaler.fit(df[['H']])\n",
        "df['H']= scaler.transform(df[['H']])\n",
        "scaler.fit(df[['C']])\n",
        "df['C']= scaler.transform(df[['C']])\n",
        "ypred= km.fit_predict(df[['L','H','C']])\n",
        "ypred\n"
      ],
      "execution_count": null,
      "outputs": [
        {
          "output_type": "execute_result",
          "data": {
            "text/plain": [
              "array([11, 11, 11, ..., 12, 12, 12], dtype=int32)"
            ]
          },
          "metadata": {},
          "execution_count": 140
        }
      ]
    },
    {
      "cell_type": "code",
      "metadata": {
        "colab": {
          "base_uri": "https://localhost:8080/",
          "height": 202
        },
        "id": "Vspr9OoLd8RW",
        "outputId": "b88f3b89-25ab-438f-f04a-4d423f53f427"
      },
      "source": [
        "df['cluster']=ypred\n",
        "df.head()"
      ],
      "execution_count": null,
      "outputs": [
        {
          "output_type": "execute_result",
          "data": {
            "text/html": [
              "<div>\n",
              "<style scoped>\n",
              "    .dataframe tbody tr th:only-of-type {\n",
              "        vertical-align: middle;\n",
              "    }\n",
              "\n",
              "    .dataframe tbody tr th {\n",
              "        vertical-align: top;\n",
              "    }\n",
              "\n",
              "    .dataframe thead th {\n",
              "        text-align: right;\n",
              "    }\n",
              "</style>\n",
              "<table border=\"1\" class=\"dataframe\">\n",
              "  <thead>\n",
              "    <tr style=\"text-align: right;\">\n",
              "      <th></th>\n",
              "      <th>Colour</th>\n",
              "      <th>L</th>\n",
              "      <th>A</th>\n",
              "      <th>B</th>\n",
              "      <th>C</th>\n",
              "      <th>H</th>\n",
              "      <th>cluster</th>\n",
              "    </tr>\n",
              "  </thead>\n",
              "  <tbody>\n",
              "    <tr>\n",
              "      <th>0</th>\n",
              "      <td>BR473</td>\n",
              "      <td>0.000000</td>\n",
              "      <td>5.15</td>\n",
              "      <td>-4.70</td>\n",
              "      <td>0.094930</td>\n",
              "      <td>0.882119</td>\n",
              "      <td>11</td>\n",
              "    </tr>\n",
              "    <tr>\n",
              "      <th>1</th>\n",
              "      <td>MA485</td>\n",
              "      <td>0.000350</td>\n",
              "      <td>8.53</td>\n",
              "      <td>-0.56</td>\n",
              "      <td>0.118148</td>\n",
              "      <td>0.989622</td>\n",
              "      <td>11</td>\n",
              "    </tr>\n",
              "    <tr>\n",
              "      <th>2</th>\n",
              "      <td>BLP12</td>\n",
              "      <td>0.013665</td>\n",
              "      <td>9.40</td>\n",
              "      <td>-25.72</td>\n",
              "      <td>0.394857</td>\n",
              "      <td>0.805553</td>\n",
              "      <td>11</td>\n",
              "    </tr>\n",
              "    <tr>\n",
              "      <th>3</th>\n",
              "      <td>BR205</td>\n",
              "      <td>0.015592</td>\n",
              "      <td>3.23</td>\n",
              "      <td>0.87</td>\n",
              "      <td>0.041734</td>\n",
              "      <td>0.040314</td>\n",
              "      <td>8</td>\n",
              "    </tr>\n",
              "    <tr>\n",
              "      <th>4</th>\n",
              "      <td>MA149</td>\n",
              "      <td>0.021023</td>\n",
              "      <td>12.58</td>\n",
              "      <td>0.41</td>\n",
              "      <td>0.177517</td>\n",
              "      <td>0.003645</td>\n",
              "      <td>8</td>\n",
              "    </tr>\n",
              "  </tbody>\n",
              "</table>\n",
              "</div>"
            ],
            "text/plain": [
              "  Colour         L      A      B         C         H  cluster\n",
              "0  BR473  0.000000   5.15  -4.70  0.094930  0.882119       11\n",
              "1  MA485  0.000350   8.53  -0.56  0.118148  0.989622       11\n",
              "2  BLP12  0.013665   9.40 -25.72  0.394857  0.805553       11\n",
              "3  BR205  0.015592   3.23   0.87  0.041734  0.040314        8\n",
              "4  MA149  0.021023  12.58   0.41  0.177517  0.003645        8"
            ]
          },
          "metadata": {},
          "execution_count": 141
        }
      ]
    },
    {
      "cell_type": "code",
      "metadata": {
        "id": "an0ZcJxYnfCX"
      },
      "source": [
        "score=[]\n",
        "X = df[['L','C','H']]\n",
        "\n",
        "for i in range(2,100):\n",
        "  model = KMeans(i, random_state=42)\n",
        "  visualizer = SilhouetteVisualizer(model, colors='yellowbrick')\n",
        "  visualizer.fit(X)\n",
        "  score.append(visualizer.silhouette_score_)\n",
        "  "
      ],
      "execution_count": null,
      "outputs": []
    },
    {
      "cell_type": "code",
      "metadata": {
        "colab": {
          "base_uri": "https://localhost:8080/"
        },
        "id": "2wLDqfjBn5h7",
        "outputId": "724f38fb-60ed-4ae5-a7bf-3e582f6c53c6"
      },
      "source": [
        "print(\"Maximum value of Average Silhoutte Score is at\", score.index(max(score))+2,\"Cluster and its value is\", round(max(score)*100,2))"
      ],
      "execution_count": null,
      "outputs": [
        {
          "output_type": "stream",
          "name": "stdout",
          "text": [
            "Maximum value of Average Silhoutte Score is at 21 Cluster and its value is 43.18\n"
          ]
        }
      ]
    },
    {
      "cell_type": "code",
      "metadata": {
        "colab": {
          "base_uri": "https://localhost:8080/"
        },
        "id": "3ezpjuxVp2-2",
        "outputId": "93258684-fb20-42cc-d49d-1bf416b6be9a"
      },
      "source": [
        "print(\"Minimum value of Average Silhoutte Score is at\", score.index(min(score))+2,\"Cluster and its value is\", round(min(score)*100,2))"
      ],
      "execution_count": null,
      "outputs": [
        {
          "output_type": "stream",
          "name": "stdout",
          "text": [
            "Minimum value of Average Silhoutte Score is at 2 Cluster and its value is 33.09\n"
          ]
        }
      ]
    },
    {
      "cell_type": "code",
      "metadata": {
        "colab": {
          "base_uri": "https://localhost:8080/",
          "height": 376
        },
        "id": "AYCy2ogcsU-_",
        "outputId": "9b18f495-9fd1-4ba4-8f8d-5825f5b0f66c"
      },
      "source": [
        "\n",
        "plt.title(\"Line graph\")\n",
        "plt.xlabel(\"Number of Clusters\")\n",
        "plt.ylabel(\"Average Silhoutte Score\")\n",
        "plt.plot(np.arange(2,100), score, color =\"Magenta\")\n",
        "plt.show()"
      ],
      "execution_count": null,
      "outputs": [
        {
          "output_type": "display_data",
          "data": {
            "image/png": "[encoded data removed]",
            "text/plain": [
              "<Figure size 576x396 with 1 Axes>"
            ]
          },
          "metadata": {}
        }
      ]
    },
    {
      "cell_type": "code",
      "metadata": {
        "colab": {
          "base_uri": "https://localhost:8080/",
          "height": 380
        },
        "id": "fyugYR9jqL6E",
        "outputId": "cb8d1cdf-de98-47e7-86b3-6b0865769eff"
      },
      "source": [
        "# Instantiate the clustering model and visualizer\n",
        "model = KMeans(21, random_state=42)\n",
        "visualizer = SilhouetteVisualizer(model, colors='yellowbrick')\n",
        "\n",
        "visualizer.fit(X)"
      ],
      "execution_count": null,
      "outputs": [
        {
          "output_type": "execute_result",
          "data": {
            "text/plain": [
              "SilhouetteVisualizer(ax=<matplotlib.axes._subplots.AxesSubplot object at 0x7f11219af750>,\n",
              "                     model=None)"
            ]
          },
          "metadata": {},
          "execution_count": 123
        },
        {
          "output_type": "display_data",
          "data": {
            "image/png": "[encoded data removed]",
            "text/plain": [
              "<Figure size 576x396 with 1 Axes>"
            ]
          },
          "metadata": {}
        }
      ]
    }
  ]
}